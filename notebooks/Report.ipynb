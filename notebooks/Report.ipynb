{
 "cells": [
  {
   "cell_type": "markdown",
   "id": "e99a86b8",
   "metadata": {},
   "source": [
    "# Analysis Findings"
   ]
  },
  {
   "cell_type": "markdown",
   "id": "3eb9b679",
   "metadata": {},
   "source": [
    "## 1. Sales Efficiency\n",
    "How much revenue do we get per session and per unique user?"
   ]
  },
  {
   "cell_type": "markdown",
   "id": "f7ac2338",
   "metadata": {},
   "source": [
    "### Approach\n",
    "1. We find efficienty using this equation<br>\n",
    "   Efficiency = Total Revenue / Total Sessions / Total Customers\n",
    "2. We use a scatter plot to view how total spending relates to sessions each user had.\n",
    "\n",
    "\n",
    "\n",
    "### Key Insights\n",
    "1. The revenue per session per user is `0.07` units of currency (e.g $, Yen etc).\n",
    "2. Most users who buy more have had lower sessions on the website. Indicating we have gaukers who will buy less but browse more. Maybe it hints at some inequality divide.\n",
    "\n",
    "### Future Analysis\n",
    "We can segment the customers who spend more for less session count vs those with higher session count based on demographics, the quantity of purchased goods, the frequency of purchases and reviews or customer support tickets."
   ]
  },
  {
   "cell_type": "markdown",
   "id": "096deb52",
   "metadata": {},
   "source": [
    "## 2. Customer Value & Segmentation\n",
    "What is each user’s lifetime value (LTV), and how do “new,” “loyal,” “one‑time,” and “churned” segments differ?"
   ]
  },
  {
   "cell_type": "markdown",
   "id": "cbcbc2af",
   "metadata": {},
   "source": [
    "### Approach\n",
    "1. We use this equation to find customer lifetime value<br>\n",
    "   CLTV = Average Order Value × Purchase Frequency × Average Customer Lifespan\n",
    "2. We use Pareto charts to find out how CLTV changes with customers. We sort the customers based on their CLTV and plot it in descending order. We split customers into `30 groups/quantiles` and plot a bar for each.\n",
    "3. We futher segment the customers by `New`, `Loyal`, `One-Time` and `Churned` and plot Pareto charts for each segment's CLTV. We define the most important segment `Loyal Customers` as those that have bought before and after a fixed date a recent period.\n",
    "\n",
    "\n",
    "\n",
    "### Insights\n",
    "1. It turns out that the CLTV of each customer is `4866.794` units of currency (e.g $, Yen etc).\n",
    "2. The highest quantile `1/30` of total customers contribute to `1/2` of total revenue/spending. Then our pareto's cummulative sum crossed the `80%` total revenue/spending at the top `11th` quantile or `~1/3` of total customers.<br>\n",
    "This aligns with the `80/20` rule that `20%` customers contribute to the `80%` revenue/spending. In our case it was `70/30`.\n",
    "3. The other segments also follow `80/20` rule, however their spending is miniscual compared to loyal customers.\n",
    "\n",
    "\n",
    "\n",
    "### Future Analysis\n",
    "1. We can futher analyse the Average Order Value we found out while calcualting CLTV.\n",
    "2. We can segment customers by demographics, order quantity and review or customer support tickets."
   ]
  },
  {
   "cell_type": "markdown",
   "id": "d7bce915",
   "metadata": {},
   "source": [
    "## 3. Campaign Impact\n",
    "Which channels deliver the highest ROI, and how much revenue is campaign‑attributed?"
   ]
  },
  {
   "cell_type": "markdown",
   "id": "7d85f66b",
   "metadata": {},
   "source": [
    "### Approach\n",
    "1. We find out ROI by grouping the types of campaigns and finding which type had highest ROI.\n",
    "2. We can plot ROI on a bar chart to compare different campaign types.\n",
    "3. Finding revenue attributed to each campaign is tricky.\n",
    "    1. We have the simple way of multiplying ROI with Budget.\n",
    "    2. Or... \n",
    "        1. We find total revenue during purchase of each campaigns period.\n",
    "        2. We find Average Order Value during the each campaign period and multiply it with the conversions by the campaigns. We have trouble here deciding if all conversions mean a purchase or not, but we can assume/estimate it.\n",
    "\n",
    "\n",
    "\n",
    "### Insights\n",
    "1. Search Engine Marketing has the highest ROI of any campaign type/channel.\n",
    "2. Search Engine Marketing has almost 3 times the ROI of all other campaign types. The second highest ROIs is of Email Marketing followed by In-Store Marketing.<br>\n",
    "We should take note that Social Media Marketing is only slightly better performance than the regular old channels, it is not very performant.\n",
    "3. The estimates for revenue generation vary, but both agree that Search Engine Marketing derives the highest Revenue. Other forms include In-Store Promotion and Radio Advertisement.<br>\n",
    "It should be noted, that although Email Marketing has a high ROI, it does not generate the second highest revenue.\n",
    "\n",
    "\n",
    "\n",
    "### Future Analysis\n",
    "\n",
    "1. Segmenting based on customer demographics etc.\n",
    "2. Do a thorough time based analysis of when each campaign type was successful and when it failed.\n",
    "3. How long did a campaign run before it generated revenue.\n",
    "4. How long did it take to notice if a campaign will not generate value at all."
   ]
  },
  {
   "cell_type": "markdown",
   "id": "244e5689",
   "metadata": {},
   "source": [
    "## 4. Funnel Performance\n",
    "Where are the biggest drop‑off points (view → cart → purchase) and how does session duration affect conversion?"
   ]
  },
  {
   "cell_type": "markdown",
   "id": "617d389d",
   "metadata": {},
   "source": [
    "### Approach\n",
    "There are many ways we can compress/aggregate the funnel data.\n",
    "1. `Complete Customer Journey Through Select Pages`: Each customer clicking and going through alot of pages, but we discard pages we are not interested in, although order/sequence of visiting pages is conserved. We plot Sankey Charts.\n",
    "2. `Unique Customer Journey Through Select Pages`: Same as above, but, we also discard cyclic visits for the pages we are interested in. We plot Sankey Charts.\n",
    "3. `Unique Customer Journey Through All Pages`: We keep all page visits and their journey, even all cyclic paths.  We plot Chord Charts.\n",
    "4. `Visit Count For Each Page`: We simply count which pages were visited most and which not. We plot boxplots.\n",
    "<br>\n",
    "<br>\n",
    "\n",
    "It does not stop here. We can.\n",
    "1. Do above for each `user` (aggregate sessions)\n",
    "2. Do above for each `session`\n",
    "\n",
    "\n",
    "\n",
    "### Insights\n",
    "1. Complete Customer Journey Through Select Pages\n",
    "    1. For each customer. The journey is too chaotic to view data meaningfully.\n",
    "    2. For each session. \n",
    "        1. Most people only visit one page and leave. This happens with all pages.\n",
    "        2. Search page should lead to product view pages. But it does not seem so.\n",
    "        3. Checkout should lead to purchase or product view. But it does not seem so.\n",
    "\n",
    "2. Unique Customer Journey Through Select Pages\n",
    "    1. For each customer.\n",
    "        1. After checkout the users don't go directly to purchase, they go to mostly page view deciding on what to finalize or having one last time thoughts, or go to somewhere else in case they changed their mind or are still browsing.\n",
    "        2. Most of the time people go to purchase from page view or product view, so indeed they do have second thoughts.\n",
    "        3. After puchase they dont leave the site, but go to other pages, maybe finding similar things.\n",
    "        4. It is odd, that most searches don't lead to product or page view, instead they leave or just add things to wishlist. Are users treating the site as a social media feed, browsing for entertainment? Maybe.\n",
    "        5. By putting items in wishlist, the people seem to feel the need to browse from other sites or maybe from local store, before finalizing purchase, so they leave the site.\n",
    "    2. For each session.\n",
    "        1. Most people only visit one page and leave. This happens with all pages.\n",
    "\n",
    "3. Unique Customer Journey Through All Pages\n",
    "    1. For each customer.Nope, can't do proper analysis. The chart is too complex. But looks good though.\n",
    "    2. For each session. Most people only visit one page and leave. This happens with all pages.\n",
    "\n",
    "4. Visit Count For Each Page\n",
    "    1. For each customer.\n",
    "        1. Nothing out of ordinary, except that we dont have customers browing alot of pages. What do I mean? Well, the customers should have spent alof of time on a lot of products if we were a big ecommerce company, but data shows that while we get alot of customers we dont get alot that browse alot. Maximum visits of pages/product views is near `15`, `2`on median, we have failed to hook the audience to the site.\n",
    "    2. For each session. Most people only visit one page and leave. This happens with all pages.\n",
    "\n",
    "5. We conclude, to get the most useful insights out of a Sankey Chart, you must use a select few pages for a customer journey and make them unique while preserving order of journey.\n",
    "\n",
    "\n",
    "\n",
    "### Future Analysis\n",
    "1. We need to make sure that sessions are being maintained or are they being ended by some technical fault. Although in reality this is a normal behaviour\n",
    "2. We noticed people stay on the site after purchasing products, does this mean they are more likely to spend more after spending before?\n",
    "3. We have not done any indepth analysis, we need to measure time of sessions and measure performance based on that.\n",
    "4. We need interactivity measures e.g how much time was spend on a page and how it related to funnel or drop off."
   ]
  },
  {
   "cell_type": "markdown",
   "id": "df9ce62d",
   "metadata": {},
   "source": [
    "## 5. Product & Timing Insights\n",
    "Which products are often a customer’s first purchase, which are trending or declining, and what day/hour windows maximize campaign conversion?"
   ]
  },
  {
   "cell_type": "markdown",
   "id": "37f0a825",
   "metadata": {},
   "source": [
    "### Approach\n",
    "1. We just count how many times a product was the first product a new customer purchased.\n",
    "2. We take the monthly products sold. Take their monthwise differences/change. Then aggregate (mean) of the total change.\n",
    "3. We simply paste the campaigns dataset on a timeline. Then aggregate (max, min, mean) the ROI for all campaigns during that period.\n",
    "\n",
    "\n",
    "\n",
    "### Insights\n",
    "1. It turns out people love buying smartphones on their first time purchase. `Iphone 13` was the highest sold. Maybe some campaign had gone viral. Others contain `Google Pixel 6` and `Ring Doorbell`.\n",
    "2. Home items and smartphones had the highest increase in purchases. They trended for the total duration. The products were `Ring Doorbell`, `Baking Sheet` and `Google Pixel 6`.<br>\n",
    "The sale of `USB-C hub` declined over the total duration.\n",
    "3. It turns out that summer, specially the months near `June, July, August` have a high rise of sales.<br>\n",
    "And we also had a spike for `2023's` christmas time.\n",
    "\n",
    "\n",
    "\n",
    "### Future Analysis\n",
    "1. We can differentiate the timelines of campaigns for each campaign type and see how each campaign has different success trends.\n",
    "2. We need to use FFT to find seasonality if there is any.\n",
    "3. Analyse the campaigns done in `2023's` christmas holiday seasons."
   ]
  },
  {
   "cell_type": "markdown",
   "id": "9d15a25e",
   "metadata": {},
   "source": [
    "## 6. Pain Points & Issues\n",
    "Which products see the highest cart abandonment, what share of sessions bounce, and what are the top support‑ticket categories?"
   ]
  },
  {
   "cell_type": "markdown",
   "id": "ca132685",
   "metadata": {},
   "source": [
    "### Approach\n",
    "1. Find total times a product was added to cart. Then find how many times that product sold via the web/mobile checkouts. Divide the two. This should get us an estimate of cart abandoment.<br>\n",
    "Note: We could not rely on cart -> purchase page visits because the purchase visit data does not contain what product was purchased.\n",
    "2. If a user visits a page and leaves, we call that a session bouce.\n",
    "3. We count the top support tickets and get their types.\n",
    "\n",
    "\n",
    "\n",
    "### Insights\n",
    "1. `Cookware`, `Ipad` and `Coffee Makers` have the highest cart abandonment rates.\n",
    "2. Unfortunately the site has a `94.38%` session bounce rate.\n",
    "3. `Shipping`, `Account Issues` and `Billing` have the highest support tickets.\n",
    "\n",
    "\n",
    "\n",
    "### Future Analysis\n",
    "1. We could add customer demographics as usual, for the support tickets.\n",
    "2. We could also check if there is a correlation between support tickets and the frequency of customer purchases."
   ]
  },
  {
   "cell_type": "markdown",
   "id": "f8a230fd",
   "metadata": {},
   "source": [
    "# Interpretation & Alignment "
   ]
  },
  {
   "cell_type": "markdown",
   "id": "1f4caaca",
   "metadata": {},
   "source": [
    "# Recommendations & Next Steps"
   ]
  }
 ],
 "metadata": {
  "kernelspec": {
   "display_name": ".localenv",
   "language": "python",
   "name": "python3"
  },
  "language_info": {
   "name": "python",
   "version": "3.10.0"
  }
 },
 "nbformat": 4,
 "nbformat_minor": 5
}
