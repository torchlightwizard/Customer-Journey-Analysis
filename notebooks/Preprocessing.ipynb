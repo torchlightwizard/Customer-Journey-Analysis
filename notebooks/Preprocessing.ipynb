{
 "cells": [
  {
   "cell_type": "markdown",
   "id": "4b5b468c",
   "metadata": {},
   "source": [
    "# Pre-Processing"
   ]
  },
  {
   "cell_type": "markdown",
   "id": "b65488b8",
   "metadata": {},
   "source": [
    "# Importing"
   ]
  },
  {
   "cell_type": "code",
   "execution_count": 1,
   "id": "37e9258e",
   "metadata": {},
   "outputs": [],
   "source": [
    "import pandas as pd\n",
    "import numpy as np\n",
    "import json"
   ]
  },
  {
   "cell_type": "code",
   "execution_count": 2,
   "id": "0844a579",
   "metadata": {},
   "outputs": [
    {
     "name": "stdout",
     "output_type": "stream",
     "text": [
      "['campaigns.csv', 'customers.csv', 'customer_reviews_complete.csv', 'interactions.csv', 'support_tickets.csv', 'transactions.csv']\n"
     ]
    }
   ],
   "source": [
    "from os import walk\n",
    "\n",
    "path = \"../data/raw/\"\n",
    "filenames = next(walk(path), (None, None, []))[2]\n",
    "print(filenames)"
   ]
  },
  {
   "cell_type": "code",
   "execution_count": 3,
   "id": "58fce5ad",
   "metadata": {},
   "outputs": [],
   "source": [
    "campaigns = pd.read_csv(path+\"campaigns.csv\")\n",
    "customers = pd.read_csv(path+\"customers.csv\")\n",
    "customer_reviews_complete = pd.read_csv(path+\"customer_reviews_complete.csv\")\n",
    "interactions = pd.read_csv(path+\"interactions.csv\")\n",
    "support_tickets = pd.read_csv(path+\"support_tickets.csv\")\n",
    "transactions = pd.read_csv(path+\"transactions.csv\")"
   ]
  },
  {
   "cell_type": "markdown",
   "id": "70eca3f0",
   "metadata": {},
   "source": [
    "# Cleaning"
   ]
  },
  {
   "cell_type": "markdown",
   "id": "8a930655",
   "metadata": {},
   "source": [
    "## Missing Values"
   ]
  },
  {
   "cell_type": "markdown",
   "id": "6341de03",
   "metadata": {},
   "source": [
    "### Discover"
   ]
  },
  {
   "cell_type": "code",
   "execution_count": 4,
   "id": "785e289d",
   "metadata": {},
   "outputs": [
    {
     "name": "stdout",
     "output_type": "stream",
     "text": [
      "0\n",
      "0\n",
      "0\n",
      "0\n",
      "0\n",
      "0\n"
     ]
    }
   ],
   "source": [
    "print(campaigns.isnull().all().sum())\n",
    "print(customers.isnull().all().sum())\n",
    "print(customer_reviews_complete.isnull().all().sum())\n",
    "print(interactions.isnull().all().sum())\n",
    "print(support_tickets.isnull().all().sum())\n",
    "print(transactions.isnull().all().sum())"
   ]
  },
  {
   "cell_type": "code",
   "execution_count": 5,
   "id": "121a06a5",
   "metadata": {},
   "outputs": [
    {
     "data": {
      "text/html": [
       "<div>\n",
       "<style scoped>\n",
       "    .dataframe tbody tr th:only-of-type {\n",
       "        vertical-align: middle;\n",
       "    }\n",
       "\n",
       "    .dataframe tbody tr th {\n",
       "        vertical-align: top;\n",
       "    }\n",
       "\n",
       "    .dataframe thead th {\n",
       "        text-align: right;\n",
       "    }\n",
       "</style>\n",
       "<table border=\"1\" class=\"dataframe\">\n",
       "  <thead>\n",
       "    <tr style=\"text-align: right;\">\n",
       "      <th></th>\n",
       "      <th>campaign_id</th>\n",
       "      <th>campaign_name</th>\n",
       "      <th>campaign_type</th>\n",
       "      <th>start_date</th>\n",
       "      <th>end_date</th>\n",
       "      <th>target_segment</th>\n",
       "      <th>budget</th>\n",
       "      <th>impressions</th>\n",
       "      <th>clicks</th>\n",
       "      <th>conversions</th>\n",
       "      <th>conversion_rate</th>\n",
       "      <th>roi</th>\n",
       "    </tr>\n",
       "  </thead>\n",
       "  <tbody>\n",
       "    <tr>\n",
       "      <th>0</th>\n",
       "      <td>0.0</td>\n",
       "      <td>0.03</td>\n",
       "      <td>0.03</td>\n",
       "      <td>0.0</td>\n",
       "      <td>0.0</td>\n",
       "      <td>0.0</td>\n",
       "      <td>0.02</td>\n",
       "      <td>0.02</td>\n",
       "      <td>0.05</td>\n",
       "      <td>0.035</td>\n",
       "      <td>0.01</td>\n",
       "      <td>0.015</td>\n",
       "    </tr>\n",
       "  </tbody>\n",
       "</table>\n",
       "</div>"
      ],
      "text/plain": [
       "   campaign_id  campaign_name  campaign_type  start_date  end_date  \\\n",
       "0          0.0           0.03           0.03         0.0       0.0   \n",
       "\n",
       "   target_segment  budget  impressions  clicks  conversions  conversion_rate  \\\n",
       "0             0.0    0.02         0.02    0.05        0.035             0.01   \n",
       "\n",
       "     roi  \n",
       "0  0.015  "
      ]
     },
     "execution_count": 5,
     "metadata": {},
     "output_type": "execute_result"
    }
   ],
   "source": [
    "pd.DataFrame(campaigns.isna().sum()).T / campaigns.shape[0]"
   ]
  },
  {
   "cell_type": "code",
   "execution_count": 6,
   "id": "52a9125d",
   "metadata": {},
   "outputs": [
    {
     "data": {
      "text/html": [
       "<div>\n",
       "<style scoped>\n",
       "    .dataframe tbody tr th:only-of-type {\n",
       "        vertical-align: middle;\n",
       "    }\n",
       "\n",
       "    .dataframe tbody tr th {\n",
       "        vertical-align: top;\n",
       "    }\n",
       "\n",
       "    .dataframe thead th {\n",
       "        text-align: right;\n",
       "    }\n",
       "</style>\n",
       "<table border=\"1\" class=\"dataframe\">\n",
       "  <thead>\n",
       "    <tr style=\"text-align: right;\">\n",
       "      <th></th>\n",
       "      <th>customer_id</th>\n",
       "      <th>full_name</th>\n",
       "      <th>age</th>\n",
       "      <th>gender</th>\n",
       "      <th>email</th>\n",
       "      <th>phone</th>\n",
       "      <th>street_address</th>\n",
       "      <th>city</th>\n",
       "      <th>state</th>\n",
       "      <th>zip_code</th>\n",
       "      <th>registration_date</th>\n",
       "      <th>preferred_channel</th>\n",
       "    </tr>\n",
       "  </thead>\n",
       "  <tbody>\n",
       "    <tr>\n",
       "      <th>0</th>\n",
       "      <td>0.0</td>\n",
       "      <td>0.0212</td>\n",
       "      <td>0.0372</td>\n",
       "      <td>0.0224</td>\n",
       "      <td>0.0222</td>\n",
       "      <td>0.0372</td>\n",
       "      <td>0.0354</td>\n",
       "      <td>0.0194</td>\n",
       "      <td>0.0186</td>\n",
       "      <td>0.0192</td>\n",
       "      <td>0.0</td>\n",
       "      <td>0.0228</td>\n",
       "    </tr>\n",
       "  </tbody>\n",
       "</table>\n",
       "</div>"
      ],
      "text/plain": [
       "   customer_id  full_name     age  gender   email   phone  street_address  \\\n",
       "0          0.0     0.0212  0.0372  0.0224  0.0222  0.0372          0.0354   \n",
       "\n",
       "     city   state  zip_code  registration_date  preferred_channel  \n",
       "0  0.0194  0.0186    0.0192                0.0             0.0228  "
      ]
     },
     "execution_count": 6,
     "metadata": {},
     "output_type": "execute_result"
    }
   ],
   "source": [
    "pd.DataFrame(customers.isna().sum()).T / customers.shape[0]"
   ]
  },
  {
   "cell_type": "code",
   "execution_count": 7,
   "id": "929f4648",
   "metadata": {},
   "outputs": [
    {
     "data": {
      "text/html": [
       "<div>\n",
       "<style scoped>\n",
       "    .dataframe tbody tr th:only-of-type {\n",
       "        vertical-align: middle;\n",
       "    }\n",
       "\n",
       "    .dataframe tbody tr th {\n",
       "        vertical-align: top;\n",
       "    }\n",
       "\n",
       "    .dataframe thead th {\n",
       "        text-align: right;\n",
       "    }\n",
       "</style>\n",
       "<table border=\"1\" class=\"dataframe\">\n",
       "  <thead>\n",
       "    <tr style=\"text-align: right;\">\n",
       "      <th></th>\n",
       "      <th>review_id</th>\n",
       "      <th>customer_id</th>\n",
       "      <th>product_name</th>\n",
       "      <th>product_category</th>\n",
       "      <th>full_name</th>\n",
       "      <th>transaction_date</th>\n",
       "      <th>review_date</th>\n",
       "      <th>rating</th>\n",
       "      <th>review_title</th>\n",
       "      <th>review_text</th>\n",
       "    </tr>\n",
       "  </thead>\n",
       "  <tbody>\n",
       "    <tr>\n",
       "      <th>0</th>\n",
       "      <td>0.0</td>\n",
       "      <td>0.0</td>\n",
       "      <td>0.024</td>\n",
       "      <td>0.019</td>\n",
       "      <td>0.019</td>\n",
       "      <td>0.0</td>\n",
       "      <td>0.0</td>\n",
       "      <td>0.0</td>\n",
       "      <td>0.0</td>\n",
       "      <td>0.0</td>\n",
       "    </tr>\n",
       "  </tbody>\n",
       "</table>\n",
       "</div>"
      ],
      "text/plain": [
       "   review_id  customer_id  product_name  product_category  full_name  \\\n",
       "0        0.0          0.0         0.024             0.019      0.019   \n",
       "\n",
       "   transaction_date  review_date  rating  review_title  review_text  \n",
       "0               0.0          0.0     0.0           0.0          0.0  "
      ]
     },
     "execution_count": 7,
     "metadata": {},
     "output_type": "execute_result"
    }
   ],
   "source": [
    "pd.DataFrame(customer_reviews_complete.isna().sum()).T / customer_reviews_complete.shape[0]"
   ]
  },
  {
   "cell_type": "code",
   "execution_count": 8,
   "id": "158db42c",
   "metadata": {},
   "outputs": [
    {
     "data": {
      "text/html": [
       "<div>\n",
       "<style scoped>\n",
       "    .dataframe tbody tr th:only-of-type {\n",
       "        vertical-align: middle;\n",
       "    }\n",
       "\n",
       "    .dataframe tbody tr th {\n",
       "        vertical-align: top;\n",
       "    }\n",
       "\n",
       "    .dataframe thead th {\n",
       "        text-align: right;\n",
       "    }\n",
       "</style>\n",
       "<table border=\"1\" class=\"dataframe\">\n",
       "  <thead>\n",
       "    <tr style=\"text-align: right;\">\n",
       "      <th></th>\n",
       "      <th>interaction_id</th>\n",
       "      <th>customer_id</th>\n",
       "      <th>channel</th>\n",
       "      <th>interaction_type</th>\n",
       "      <th>interaction_date</th>\n",
       "      <th>duration</th>\n",
       "      <th>page_or_product</th>\n",
       "      <th>session_id</th>\n",
       "    </tr>\n",
       "  </thead>\n",
       "  <tbody>\n",
       "    <tr>\n",
       "      <th>0</th>\n",
       "      <td>0.0</td>\n",
       "      <td>0.0</td>\n",
       "      <td>0.02002</td>\n",
       "      <td>0.02022</td>\n",
       "      <td>0.0</td>\n",
       "      <td>0.01963</td>\n",
       "      <td>0.01927</td>\n",
       "      <td>0.0</td>\n",
       "    </tr>\n",
       "  </tbody>\n",
       "</table>\n",
       "</div>"
      ],
      "text/plain": [
       "   interaction_id  customer_id  channel  interaction_type  interaction_date  \\\n",
       "0             0.0          0.0  0.02002           0.02022               0.0   \n",
       "\n",
       "   duration  page_or_product  session_id  \n",
       "0   0.01963          0.01927         0.0  "
      ]
     },
     "execution_count": 8,
     "metadata": {},
     "output_type": "execute_result"
    }
   ],
   "source": [
    "pd.DataFrame(interactions.isna().sum()).T / interactions.shape[0]"
   ]
  },
  {
   "cell_type": "code",
   "execution_count": 9,
   "id": "c66559bb",
   "metadata": {},
   "outputs": [
    {
     "data": {
      "text/html": [
       "<div>\n",
       "<style scoped>\n",
       "    .dataframe tbody tr th:only-of-type {\n",
       "        vertical-align: middle;\n",
       "    }\n",
       "\n",
       "    .dataframe tbody tr th {\n",
       "        vertical-align: top;\n",
       "    }\n",
       "\n",
       "    .dataframe thead th {\n",
       "        text-align: right;\n",
       "    }\n",
       "</style>\n",
       "<table border=\"1\" class=\"dataframe\">\n",
       "  <thead>\n",
       "    <tr style=\"text-align: right;\">\n",
       "      <th></th>\n",
       "      <th>ticket_id</th>\n",
       "      <th>customer_id</th>\n",
       "      <th>issue_category</th>\n",
       "      <th>priority</th>\n",
       "      <th>submission_date</th>\n",
       "      <th>resolution_date</th>\n",
       "      <th>resolution_status</th>\n",
       "      <th>resolution_time_hours</th>\n",
       "      <th>customer_satisfaction_score</th>\n",
       "      <th>notes</th>\n",
       "    </tr>\n",
       "  </thead>\n",
       "  <tbody>\n",
       "    <tr>\n",
       "      <th>0</th>\n",
       "      <td>0.0</td>\n",
       "      <td>0.0</td>\n",
       "      <td>0.023667</td>\n",
       "      <td>0.02</td>\n",
       "      <td>0.0</td>\n",
       "      <td>0.081333</td>\n",
       "      <td>0.019</td>\n",
       "      <td>0.099667</td>\n",
       "      <td>0.113667</td>\n",
       "      <td>0.020333</td>\n",
       "    </tr>\n",
       "  </tbody>\n",
       "</table>\n",
       "</div>"
      ],
      "text/plain": [
       "   ticket_id  customer_id  issue_category  priority  submission_date  \\\n",
       "0        0.0          0.0        0.023667      0.02              0.0   \n",
       "\n",
       "   resolution_date  resolution_status  resolution_time_hours  \\\n",
       "0         0.081333              0.019               0.099667   \n",
       "\n",
       "   customer_satisfaction_score     notes  \n",
       "0                     0.113667  0.020333  "
      ]
     },
     "execution_count": 9,
     "metadata": {},
     "output_type": "execute_result"
    }
   ],
   "source": [
    "pd.DataFrame(support_tickets.isna().sum()).T / support_tickets.shape[0]"
   ]
  },
  {
   "cell_type": "code",
   "execution_count": 10,
   "id": "255c801d",
   "metadata": {},
   "outputs": [
    {
     "data": {
      "text/html": [
       "<div>\n",
       "<style scoped>\n",
       "    .dataframe tbody tr th:only-of-type {\n",
       "        vertical-align: middle;\n",
       "    }\n",
       "\n",
       "    .dataframe tbody tr th {\n",
       "        vertical-align: top;\n",
       "    }\n",
       "\n",
       "    .dataframe thead th {\n",
       "        text-align: right;\n",
       "    }\n",
       "</style>\n",
       "<table border=\"1\" class=\"dataframe\">\n",
       "  <thead>\n",
       "    <tr style=\"text-align: right;\">\n",
       "      <th></th>\n",
       "      <th>transaction_id</th>\n",
       "      <th>customer_id</th>\n",
       "      <th>product_name</th>\n",
       "      <th>product_category</th>\n",
       "      <th>quantity</th>\n",
       "      <th>price</th>\n",
       "      <th>transaction_date</th>\n",
       "      <th>store_location</th>\n",
       "      <th>payment_method</th>\n",
       "      <th>discount_applied</th>\n",
       "    </tr>\n",
       "  </thead>\n",
       "  <tbody>\n",
       "    <tr>\n",
       "      <th>0</th>\n",
       "      <td>0.0</td>\n",
       "      <td>0.0</td>\n",
       "      <td>0.020994</td>\n",
       "      <td>0.021242</td>\n",
       "      <td>0.019941</td>\n",
       "      <td>0.01926</td>\n",
       "      <td>0.0</td>\n",
       "      <td>0.019941</td>\n",
       "      <td>0.020437</td>\n",
       "      <td>0.018919</td>\n",
       "    </tr>\n",
       "  </tbody>\n",
       "</table>\n",
       "</div>"
      ],
      "text/plain": [
       "   transaction_id  customer_id  product_name  product_category  quantity  \\\n",
       "0             0.0          0.0      0.020994          0.021242  0.019941   \n",
       "\n",
       "     price  transaction_date  store_location  payment_method  discount_applied  \n",
       "0  0.01926               0.0        0.019941        0.020437          0.018919  "
      ]
     },
     "execution_count": 10,
     "metadata": {},
     "output_type": "execute_result"
    }
   ],
   "source": [
    "pd.DataFrame(transactions.isna().sum()).T / transactions.shape[0]"
   ]
  },
  {
   "cell_type": "markdown",
   "id": "cb1ab089",
   "metadata": {},
   "source": [
    "### Rectify"
   ]
  },
  {
   "cell_type": "markdown",
   "id": "2235e551",
   "metadata": {},
   "source": [
    "Using mean values to interpolate numeric values.<br>\n",
    "Using \"Other\" for missing text values."
   ]
  },
  {
   "cell_type": "markdown",
   "id": "2c5aa92d",
   "metadata": {},
   "source": [
    "#### 1. campaigns"
   ]
  },
  {
   "cell_type": "code",
   "execution_count": 11,
   "id": "4d05b691",
   "metadata": {},
   "outputs": [],
   "source": [
    "def fill_avg (df, na_col, ref_col):\n",
    "    items = list(df[df[na_col].isna()][ref_col])\n",
    "    for item in items:\n",
    "        mean = df[df[ref_col] == item][na_col].mean()\n",
    "        df.loc[(df[ref_col] == item) & (df[na_col].isna()), na_col] = mean\n",
    "    return"
   ]
  },
  {
   "cell_type": "code",
   "execution_count": 12,
   "id": "f4b6b0a3",
   "metadata": {},
   "outputs": [],
   "source": [
    "campaigns = campaigns.fillna(value={\"campaign_name\": \"Other\", \"campaign_type\": \"Other\"})"
   ]
  },
  {
   "cell_type": "code",
   "execution_count": 13,
   "id": "dc1fc1e9",
   "metadata": {},
   "outputs": [
    {
     "data": {
      "text/plain": [
       "35   NaN\n",
       "Name: budget, dtype: float64"
      ]
     },
     "execution_count": 13,
     "metadata": {},
     "output_type": "execute_result"
    }
   ],
   "source": [
    "campaigns.loc[(campaigns[\"campaign_type\"] == \"Email Marketing\") & (campaigns[\"budget\"].isna()), \"budget\"]"
   ]
  },
  {
   "cell_type": "code",
   "execution_count": 14,
   "id": "b8018a08",
   "metadata": {},
   "outputs": [],
   "source": [
    "def campaign_conversion_rate (row):\n",
    "    if pd.isna(row[\"conversion_rate\"]):\n",
    "        return row[\"conversions\"] / row[\"clicks\"]\n",
    "    else:\n",
    "        return row[\"conversion_rate\"]\n",
    "        "
   ]
  },
  {
   "cell_type": "code",
   "execution_count": 15,
   "id": "0aae687a",
   "metadata": {},
   "outputs": [],
   "source": [
    "fill_avg(campaigns, \"budget\", \"campaign_type\")\n",
    "fill_avg(campaigns, \"impressions\", \"campaign_type\")\n",
    "fill_avg(campaigns, \"clicks\", \"campaign_type\")\n",
    "fill_avg(campaigns, \"conversions\", \"campaign_type\")\n",
    "campaigns[\"conversion_rate\"] = campaigns.apply(campaign_conversion_rate, axis=1)\n",
    "fill_avg(campaigns, \"roi\", \"campaign_type\")"
   ]
  },
  {
   "cell_type": "code",
   "execution_count": 16,
   "id": "e5143d35",
   "metadata": {},
   "outputs": [
    {
     "data": {
      "text/html": [
       "<div>\n",
       "<style scoped>\n",
       "    .dataframe tbody tr th:only-of-type {\n",
       "        vertical-align: middle;\n",
       "    }\n",
       "\n",
       "    .dataframe tbody tr th {\n",
       "        vertical-align: top;\n",
       "    }\n",
       "\n",
       "    .dataframe thead th {\n",
       "        text-align: right;\n",
       "    }\n",
       "</style>\n",
       "<table border=\"1\" class=\"dataframe\">\n",
       "  <thead>\n",
       "    <tr style=\"text-align: right;\">\n",
       "      <th></th>\n",
       "      <th>campaign_id</th>\n",
       "      <th>campaign_name</th>\n",
       "      <th>campaign_type</th>\n",
       "      <th>start_date</th>\n",
       "      <th>end_date</th>\n",
       "      <th>target_segment</th>\n",
       "      <th>budget</th>\n",
       "      <th>impressions</th>\n",
       "      <th>clicks</th>\n",
       "      <th>conversions</th>\n",
       "      <th>conversion_rate</th>\n",
       "      <th>roi</th>\n",
       "    </tr>\n",
       "  </thead>\n",
       "  <tbody>\n",
       "    <tr>\n",
       "      <th>0</th>\n",
       "      <td>0.0</td>\n",
       "      <td>0.0</td>\n",
       "      <td>0.0</td>\n",
       "      <td>0.0</td>\n",
       "      <td>0.0</td>\n",
       "      <td>0.0</td>\n",
       "      <td>0.0</td>\n",
       "      <td>0.0</td>\n",
       "      <td>0.0</td>\n",
       "      <td>0.0</td>\n",
       "      <td>0.0</td>\n",
       "      <td>0.0</td>\n",
       "    </tr>\n",
       "  </tbody>\n",
       "</table>\n",
       "</div>"
      ],
      "text/plain": [
       "   campaign_id  campaign_name  campaign_type  start_date  end_date  \\\n",
       "0          0.0            0.0            0.0         0.0       0.0   \n",
       "\n",
       "   target_segment  budget  impressions  clicks  conversions  conversion_rate  \\\n",
       "0             0.0     0.0          0.0     0.0          0.0              0.0   \n",
       "\n",
       "   roi  \n",
       "0  0.0  "
      ]
     },
     "execution_count": 16,
     "metadata": {},
     "output_type": "execute_result"
    }
   ],
   "source": [
    "pd.DataFrame(campaigns.isna().sum()).T / campaigns.shape[0]"
   ]
  },
  {
   "cell_type": "markdown",
   "id": "f2e8ded5",
   "metadata": {},
   "source": [
    "#### 2. customers"
   ]
  },
  {
   "cell_type": "code",
   "execution_count": 17,
   "id": "2749775b",
   "metadata": {},
   "outputs": [],
   "source": [
    "customers = customers.fillna(value={\"full_name\": \"John Doe\", \n",
    "                                    \"gender\": \"Prefer not to say\", \n",
    "                                    \"email\": \"none@none.none\", \n",
    "                                    \"phone\": \"127-0-0-1\", \n",
    "                                    \"street_address\": \"Other\", \n",
    "                                    \"city\": \"Other\", \n",
    "                                    \"state\": \"Other\", \n",
    "                                    \"zip_code\": 99999, \n",
    "                                    \"preferred_channel\": \"Other\"})\n",
    "customers[\"age\"] = customers[\"age\"].apply(lambda age: customers[\"age\"].mean() if pd.isna(age) else age)"
   ]
  },
  {
   "cell_type": "code",
   "execution_count": 18,
   "id": "fa3a7568",
   "metadata": {},
   "outputs": [
    {
     "data": {
      "text/html": [
       "<div>\n",
       "<style scoped>\n",
       "    .dataframe tbody tr th:only-of-type {\n",
       "        vertical-align: middle;\n",
       "    }\n",
       "\n",
       "    .dataframe tbody tr th {\n",
       "        vertical-align: top;\n",
       "    }\n",
       "\n",
       "    .dataframe thead th {\n",
       "        text-align: right;\n",
       "    }\n",
       "</style>\n",
       "<table border=\"1\" class=\"dataframe\">\n",
       "  <thead>\n",
       "    <tr style=\"text-align: right;\">\n",
       "      <th></th>\n",
       "      <th>customer_id</th>\n",
       "      <th>full_name</th>\n",
       "      <th>age</th>\n",
       "      <th>gender</th>\n",
       "      <th>email</th>\n",
       "      <th>phone</th>\n",
       "      <th>street_address</th>\n",
       "      <th>city</th>\n",
       "      <th>state</th>\n",
       "      <th>zip_code</th>\n",
       "      <th>registration_date</th>\n",
       "      <th>preferred_channel</th>\n",
       "    </tr>\n",
       "  </thead>\n",
       "  <tbody>\n",
       "    <tr>\n",
       "      <th>0</th>\n",
       "      <td>0.0</td>\n",
       "      <td>0.0</td>\n",
       "      <td>0.0</td>\n",
       "      <td>0.0</td>\n",
       "      <td>0.0</td>\n",
       "      <td>0.0</td>\n",
       "      <td>0.0</td>\n",
       "      <td>0.0</td>\n",
       "      <td>0.0</td>\n",
       "      <td>0.0</td>\n",
       "      <td>0.0</td>\n",
       "      <td>0.0</td>\n",
       "    </tr>\n",
       "  </tbody>\n",
       "</table>\n",
       "</div>"
      ],
      "text/plain": [
       "   customer_id  full_name  age  gender  email  phone  street_address  city  \\\n",
       "0          0.0        0.0  0.0     0.0    0.0    0.0             0.0   0.0   \n",
       "\n",
       "   state  zip_code  registration_date  preferred_channel  \n",
       "0    0.0       0.0                0.0                0.0  "
      ]
     },
     "execution_count": 18,
     "metadata": {},
     "output_type": "execute_result"
    }
   ],
   "source": [
    "pd.DataFrame(customers.isna().sum()).T / customers.shape[0]"
   ]
  },
  {
   "cell_type": "markdown",
   "id": "94dc3f0f",
   "metadata": {},
   "source": [
    "#### 3. customer_reviews_complete"
   ]
  },
  {
   "cell_type": "code",
   "execution_count": 19,
   "id": "5fdda6fa",
   "metadata": {},
   "outputs": [],
   "source": [
    "def customer_reviews_complete_full_name (row):\n",
    "    if pd.isna(row[\"full_name\"]):\n",
    "        customer_id = row[\"customer_id\"]\n",
    "        full_name = customers[customers[\"customer_id\"] == customer_id][\"full_name\"]\n",
    "        return full_name\n",
    "    else:\n",
    "        return row[\"full_name\"]"
   ]
  },
  {
   "cell_type": "code",
   "execution_count": 20,
   "id": "c533cef5",
   "metadata": {},
   "outputs": [],
   "source": [
    "customer_reviews_complete = customer_reviews_complete.fillna(value={\"product_name\": \"Other\", \"product_category\": \"Other\"})\n",
    "customer_reviews_complete[\"full_name\"] = customer_reviews_complete.apply(customer_reviews_complete_full_name, axis=1)"
   ]
  },
  {
   "cell_type": "code",
   "execution_count": 21,
   "id": "bb96ca5c",
   "metadata": {},
   "outputs": [
    {
     "data": {
      "text/html": [
       "<div>\n",
       "<style scoped>\n",
       "    .dataframe tbody tr th:only-of-type {\n",
       "        vertical-align: middle;\n",
       "    }\n",
       "\n",
       "    .dataframe tbody tr th {\n",
       "        vertical-align: top;\n",
       "    }\n",
       "\n",
       "    .dataframe thead th {\n",
       "        text-align: right;\n",
       "    }\n",
       "</style>\n",
       "<table border=\"1\" class=\"dataframe\">\n",
       "  <thead>\n",
       "    <tr style=\"text-align: right;\">\n",
       "      <th></th>\n",
       "      <th>review_id</th>\n",
       "      <th>customer_id</th>\n",
       "      <th>product_name</th>\n",
       "      <th>product_category</th>\n",
       "      <th>full_name</th>\n",
       "      <th>transaction_date</th>\n",
       "      <th>review_date</th>\n",
       "      <th>rating</th>\n",
       "      <th>review_title</th>\n",
       "      <th>review_text</th>\n",
       "    </tr>\n",
       "  </thead>\n",
       "  <tbody>\n",
       "    <tr>\n",
       "      <th>0</th>\n",
       "      <td>0.0</td>\n",
       "      <td>0.0</td>\n",
       "      <td>0.0</td>\n",
       "      <td>0.0</td>\n",
       "      <td>0.0</td>\n",
       "      <td>0.0</td>\n",
       "      <td>0.0</td>\n",
       "      <td>0.0</td>\n",
       "      <td>0.0</td>\n",
       "      <td>0.0</td>\n",
       "    </tr>\n",
       "  </tbody>\n",
       "</table>\n",
       "</div>"
      ],
      "text/plain": [
       "   review_id  customer_id  product_name  product_category  full_name  \\\n",
       "0        0.0          0.0           0.0               0.0        0.0   \n",
       "\n",
       "   transaction_date  review_date  rating  review_title  review_text  \n",
       "0               0.0          0.0     0.0           0.0          0.0  "
      ]
     },
     "execution_count": 21,
     "metadata": {},
     "output_type": "execute_result"
    }
   ],
   "source": [
    "pd.DataFrame(customer_reviews_complete.isna().sum()).T / customer_reviews_complete.shape[0]"
   ]
  },
  {
   "cell_type": "markdown",
   "id": "bdbfcb7d",
   "metadata": {},
   "source": [
    "#### 4. interactions"
   ]
  },
  {
   "cell_type": "code",
   "execution_count": 22,
   "id": "d8151703",
   "metadata": {},
   "outputs": [],
   "source": [
    "interactions = interactions.fillna(value={\"channel\": \"Other\", \"interaction_type\": \"Other\", \"page_or_product\": \"Other\"})\n",
    "interactions[\"duration\"] = interactions[\"duration\"].apply(lambda dur: interactions[\"duration\"].mean() if pd.isna(dur) else dur)"
   ]
  },
  {
   "cell_type": "code",
   "execution_count": 23,
   "id": "b14968e9",
   "metadata": {},
   "outputs": [
    {
     "data": {
      "text/html": [
       "<div>\n",
       "<style scoped>\n",
       "    .dataframe tbody tr th:only-of-type {\n",
       "        vertical-align: middle;\n",
       "    }\n",
       "\n",
       "    .dataframe tbody tr th {\n",
       "        vertical-align: top;\n",
       "    }\n",
       "\n",
       "    .dataframe thead th {\n",
       "        text-align: right;\n",
       "    }\n",
       "</style>\n",
       "<table border=\"1\" class=\"dataframe\">\n",
       "  <thead>\n",
       "    <tr style=\"text-align: right;\">\n",
       "      <th></th>\n",
       "      <th>interaction_id</th>\n",
       "      <th>customer_id</th>\n",
       "      <th>channel</th>\n",
       "      <th>interaction_type</th>\n",
       "      <th>interaction_date</th>\n",
       "      <th>duration</th>\n",
       "      <th>page_or_product</th>\n",
       "      <th>session_id</th>\n",
       "    </tr>\n",
       "  </thead>\n",
       "  <tbody>\n",
       "    <tr>\n",
       "      <th>0</th>\n",
       "      <td>0.0</td>\n",
       "      <td>0.0</td>\n",
       "      <td>0.0</td>\n",
       "      <td>0.0</td>\n",
       "      <td>0.0</td>\n",
       "      <td>0.0</td>\n",
       "      <td>0.0</td>\n",
       "      <td>0.0</td>\n",
       "    </tr>\n",
       "  </tbody>\n",
       "</table>\n",
       "</div>"
      ],
      "text/plain": [
       "   interaction_id  customer_id  channel  interaction_type  interaction_date  \\\n",
       "0             0.0          0.0      0.0               0.0               0.0   \n",
       "\n",
       "   duration  page_or_product  session_id  \n",
       "0       0.0              0.0         0.0  "
      ]
     },
     "execution_count": 23,
     "metadata": {},
     "output_type": "execute_result"
    }
   ],
   "source": [
    "pd.DataFrame(interactions.isna().sum()).T / interactions.shape[0]"
   ]
  },
  {
   "cell_type": "markdown",
   "id": "81cfd94a",
   "metadata": {},
   "source": [
    "#### 5. support_tickets"
   ]
  },
  {
   "cell_type": "code",
   "execution_count": 24,
   "id": "cbda5ed0",
   "metadata": {},
   "outputs": [],
   "source": [
    "def support_tickets_resolution_status (row):\n",
    "    if pd.isna(row[\"resolution_status\"]):\n",
    "        if pd.isna(row[\"resolution_date\"]):\n",
    "            return \"Pending\"\n",
    "        else:\n",
    "            return \"Closed without Resolution\"\n",
    "    else:\n",
    "        return row[\"resolution_status\"]"
   ]
  },
  {
   "cell_type": "code",
   "execution_count": 25,
   "id": "bae95649",
   "metadata": {},
   "outputs": [],
   "source": [
    "def support_tickets_resolution_time_hours (row):\n",
    "    if pd.isna(row[\"resolution_time_hours\"]):\n",
    "        return np.floor((row[\"resolution_date\"] - row[\"submission_date\"]).seconds / 3600)\n",
    "    else:\n",
    "        return row[\"resolution_time_hours\"]"
   ]
  },
  {
   "cell_type": "code",
   "execution_count": 26,
   "id": "3160fb46",
   "metadata": {},
   "outputs": [],
   "source": [
    "support_tickets = support_tickets.fillna(value={\"issue_category\": \"Other\", \n",
    "                                                \"priority\": \"Medium\", \n",
    "                                                \"notes\": \"No Description\", \n",
    "                                                \"customer_satisfaction_score\":3.0 })\n",
    "support_tickets[\"resolution_status\"] = support_tickets.apply(support_tickets_resolution_status, axis=1)\n",
    "support_tickets[\"submission_date\"] = pd.to_datetime(support_tickets[\"submission_date\"])\n",
    "support_tickets[\"resolution_date\"] = pd.to_datetime(support_tickets[\"resolution_date\"])\n",
    "support_tickets[\"resolution_date\"] = support_tickets[\"resolution_date\"].apply(lambda dat: support_tickets[\"resolution_date\"].max() if pd.isna(dat) else dat)\n",
    "support_tickets[\"resolution_time_hours\"] = support_tickets.apply(support_tickets_resolution_time_hours, axis=1)"
   ]
  },
  {
   "cell_type": "code",
   "execution_count": 27,
   "id": "64c95433",
   "metadata": {},
   "outputs": [
    {
     "data": {
      "text/html": [
       "<div>\n",
       "<style scoped>\n",
       "    .dataframe tbody tr th:only-of-type {\n",
       "        vertical-align: middle;\n",
       "    }\n",
       "\n",
       "    .dataframe tbody tr th {\n",
       "        vertical-align: top;\n",
       "    }\n",
       "\n",
       "    .dataframe thead th {\n",
       "        text-align: right;\n",
       "    }\n",
       "</style>\n",
       "<table border=\"1\" class=\"dataframe\">\n",
       "  <thead>\n",
       "    <tr style=\"text-align: right;\">\n",
       "      <th></th>\n",
       "      <th>ticket_id</th>\n",
       "      <th>customer_id</th>\n",
       "      <th>issue_category</th>\n",
       "      <th>priority</th>\n",
       "      <th>submission_date</th>\n",
       "      <th>resolution_date</th>\n",
       "      <th>resolution_status</th>\n",
       "      <th>resolution_time_hours</th>\n",
       "      <th>customer_satisfaction_score</th>\n",
       "      <th>notes</th>\n",
       "    </tr>\n",
       "  </thead>\n",
       "  <tbody>\n",
       "    <tr>\n",
       "      <th>0</th>\n",
       "      <td>0.0</td>\n",
       "      <td>0.0</td>\n",
       "      <td>0.0</td>\n",
       "      <td>0.0</td>\n",
       "      <td>0.0</td>\n",
       "      <td>0.0</td>\n",
       "      <td>0.0</td>\n",
       "      <td>0.0</td>\n",
       "      <td>0.0</td>\n",
       "      <td>0.0</td>\n",
       "    </tr>\n",
       "  </tbody>\n",
       "</table>\n",
       "</div>"
      ],
      "text/plain": [
       "   ticket_id  customer_id  issue_category  priority  submission_date  \\\n",
       "0        0.0          0.0             0.0       0.0              0.0   \n",
       "\n",
       "   resolution_date  resolution_status  resolution_time_hours  \\\n",
       "0              0.0                0.0                    0.0   \n",
       "\n",
       "   customer_satisfaction_score  notes  \n",
       "0                          0.0    0.0  "
      ]
     },
     "execution_count": 27,
     "metadata": {},
     "output_type": "execute_result"
    }
   ],
   "source": [
    "pd.DataFrame(support_tickets.isna().sum()).T / support_tickets.shape[0]"
   ]
  },
  {
   "cell_type": "markdown",
   "id": "76a9932b",
   "metadata": {},
   "source": [
    "#### 6. transactions"
   ]
  },
  {
   "cell_type": "code",
   "execution_count": 28,
   "id": "d7e628a8",
   "metadata": {},
   "outputs": [],
   "source": [
    "transactions = transactions.fillna(value={\"product_name\": \"Other\", \"product_category\": \"Other\", \"store_location\": \"Online\", \"payment_method\": \"Credit Card\"})\n",
    "transactions[\"quantity\"] = transactions[\"quantity\"].apply(lambda quant: 1 if pd.isna(quant) else quant)\n",
    "fill_avg(transactions, \"price\", \"product_name\")\n",
    "transactions[\"discount_applied\"] = transactions[\"discount_applied\"].apply(lambda disc: 0.0 if pd.isna(disc) else disc)"
   ]
  },
  {
   "cell_type": "code",
   "execution_count": 29,
   "id": "e082bda2",
   "metadata": {},
   "outputs": [
    {
     "data": {
      "text/html": [
       "<div>\n",
       "<style scoped>\n",
       "    .dataframe tbody tr th:only-of-type {\n",
       "        vertical-align: middle;\n",
       "    }\n",
       "\n",
       "    .dataframe tbody tr th {\n",
       "        vertical-align: top;\n",
       "    }\n",
       "\n",
       "    .dataframe thead th {\n",
       "        text-align: right;\n",
       "    }\n",
       "</style>\n",
       "<table border=\"1\" class=\"dataframe\">\n",
       "  <thead>\n",
       "    <tr style=\"text-align: right;\">\n",
       "      <th></th>\n",
       "      <th>transaction_id</th>\n",
       "      <th>customer_id</th>\n",
       "      <th>product_name</th>\n",
       "      <th>product_category</th>\n",
       "      <th>quantity</th>\n",
       "      <th>price</th>\n",
       "      <th>transaction_date</th>\n",
       "      <th>store_location</th>\n",
       "      <th>payment_method</th>\n",
       "      <th>discount_applied</th>\n",
       "    </tr>\n",
       "  </thead>\n",
       "  <tbody>\n",
       "    <tr>\n",
       "      <th>0</th>\n",
       "      <td>0.0</td>\n",
       "      <td>0.0</td>\n",
       "      <td>0.0</td>\n",
       "      <td>0.0</td>\n",
       "      <td>0.0</td>\n",
       "      <td>0.0</td>\n",
       "      <td>0.0</td>\n",
       "      <td>0.0</td>\n",
       "      <td>0.0</td>\n",
       "      <td>0.0</td>\n",
       "    </tr>\n",
       "  </tbody>\n",
       "</table>\n",
       "</div>"
      ],
      "text/plain": [
       "   transaction_id  customer_id  product_name  product_category  quantity  \\\n",
       "0             0.0          0.0           0.0               0.0       0.0   \n",
       "\n",
       "   price  transaction_date  store_location  payment_method  discount_applied  \n",
       "0    0.0               0.0             0.0             0.0               0.0  "
      ]
     },
     "execution_count": 29,
     "metadata": {},
     "output_type": "execute_result"
    }
   ],
   "source": [
    "pd.DataFrame(transactions.isna().sum()).T / transactions.shape[0]"
   ]
  },
  {
   "cell_type": "markdown",
   "id": "c48073f3",
   "metadata": {},
   "source": [
    "## Data Types"
   ]
  },
  {
   "cell_type": "markdown",
   "id": "b5c34854",
   "metadata": {},
   "source": [
    "### Discover"
   ]
  },
  {
   "cell_type": "code",
   "execution_count": 30,
   "id": "ca5cd3c4",
   "metadata": {},
   "outputs": [],
   "source": [
    "campaigns = campaigns.convert_dtypes()\n",
    "customers = customers.convert_dtypes()\n",
    "customer_reviews_complete = customer_reviews_complete.convert_dtypes()\n",
    "interactions = interactions.convert_dtypes()\n",
    "support_tickets = support_tickets.convert_dtypes()\n",
    "transactions = transactions.convert_dtypes()"
   ]
  },
  {
   "cell_type": "markdown",
   "id": "56bc15b7",
   "metadata": {},
   "source": [
    "#### 1. campaigns"
   ]
  },
  {
   "cell_type": "code",
   "execution_count": 31,
   "id": "48c14830",
   "metadata": {},
   "outputs": [
    {
     "data": {
      "text/html": [
       "<div>\n",
       "<style scoped>\n",
       "    .dataframe tbody tr th:only-of-type {\n",
       "        vertical-align: middle;\n",
       "    }\n",
       "\n",
       "    .dataframe tbody tr th {\n",
       "        vertical-align: top;\n",
       "    }\n",
       "\n",
       "    .dataframe thead th {\n",
       "        text-align: right;\n",
       "    }\n",
       "</style>\n",
       "<table border=\"1\" class=\"dataframe\">\n",
       "  <thead>\n",
       "    <tr style=\"text-align: right;\">\n",
       "      <th></th>\n",
       "      <th>campaign_id</th>\n",
       "      <th>campaign_name</th>\n",
       "      <th>campaign_type</th>\n",
       "      <th>start_date</th>\n",
       "      <th>end_date</th>\n",
       "      <th>target_segment</th>\n",
       "      <th>budget</th>\n",
       "      <th>impressions</th>\n",
       "      <th>clicks</th>\n",
       "      <th>conversions</th>\n",
       "      <th>conversion_rate</th>\n",
       "      <th>roi</th>\n",
       "    </tr>\n",
       "  </thead>\n",
       "  <tbody>\n",
       "    <tr>\n",
       "      <th>0</th>\n",
       "      <td>0d120125-26cc-4023-9a54-bebbc0159b76</td>\n",
       "      <td>Black Friday Sale 2022</td>\n",
       "      <td>Online Display Ads</td>\n",
       "      <td>2020-09-29</td>\n",
       "      <td>2020-11-13</td>\n",
       "      <td>Southern States</td>\n",
       "      <td>14528.9</td>\n",
       "      <td>740965.0</td>\n",
       "      <td>1189.0</td>\n",
       "      <td>53.0</td>\n",
       "      <td>4.46</td>\n",
       "      <td>-61.31</td>\n",
       "    </tr>\n",
       "  </tbody>\n",
       "</table>\n",
       "</div>"
      ],
      "text/plain": [
       "                            campaign_id           campaign_name  \\\n",
       "0  0d120125-26cc-4023-9a54-bebbc0159b76  Black Friday Sale 2022   \n",
       "\n",
       "        campaign_type  start_date    end_date   target_segment   budget  \\\n",
       "0  Online Display Ads  2020-09-29  2020-11-13  Southern States  14528.9   \n",
       "\n",
       "   impressions  clicks  conversions  conversion_rate    roi  \n",
       "0     740965.0  1189.0         53.0             4.46 -61.31  "
      ]
     },
     "execution_count": 31,
     "metadata": {},
     "output_type": "execute_result"
    }
   ],
   "source": [
    "campaigns.head(1)"
   ]
  },
  {
   "cell_type": "code",
   "execution_count": 32,
   "id": "ed8cbb65",
   "metadata": {},
   "outputs": [
    {
     "data": {
      "text/html": [
       "<div>\n",
       "<style scoped>\n",
       "    .dataframe tbody tr th:only-of-type {\n",
       "        vertical-align: middle;\n",
       "    }\n",
       "\n",
       "    .dataframe tbody tr th {\n",
       "        vertical-align: top;\n",
       "    }\n",
       "\n",
       "    .dataframe thead th {\n",
       "        text-align: right;\n",
       "    }\n",
       "</style>\n",
       "<table border=\"1\" class=\"dataframe\">\n",
       "  <thead>\n",
       "    <tr style=\"text-align: right;\">\n",
       "      <th></th>\n",
       "      <th>campaign_id</th>\n",
       "      <th>campaign_name</th>\n",
       "      <th>campaign_type</th>\n",
       "      <th>start_date</th>\n",
       "      <th>end_date</th>\n",
       "      <th>target_segment</th>\n",
       "      <th>budget</th>\n",
       "      <th>impressions</th>\n",
       "      <th>clicks</th>\n",
       "      <th>conversions</th>\n",
       "      <th>conversion_rate</th>\n",
       "      <th>roi</th>\n",
       "    </tr>\n",
       "  </thead>\n",
       "  <tbody>\n",
       "    <tr>\n",
       "      <th>0</th>\n",
       "      <td>string[python]</td>\n",
       "      <td>string[python]</td>\n",
       "      <td>string[python]</td>\n",
       "      <td>string[python]</td>\n",
       "      <td>string[python]</td>\n",
       "      <td>string[python]</td>\n",
       "      <td>Float64</td>\n",
       "      <td>Float64</td>\n",
       "      <td>Float64</td>\n",
       "      <td>Float64</td>\n",
       "      <td>Float64</td>\n",
       "      <td>Float64</td>\n",
       "    </tr>\n",
       "  </tbody>\n",
       "</table>\n",
       "</div>"
      ],
      "text/plain": [
       "      campaign_id   campaign_name   campaign_type      start_date  \\\n",
       "0  string[python]  string[python]  string[python]  string[python]   \n",
       "\n",
       "         end_date  target_segment   budget impressions   clicks conversions  \\\n",
       "0  string[python]  string[python]  Float64     Float64  Float64     Float64   \n",
       "\n",
       "  conversion_rate      roi  \n",
       "0         Float64  Float64  "
      ]
     },
     "execution_count": 32,
     "metadata": {},
     "output_type": "execute_result"
    }
   ],
   "source": [
    "pd.DataFrame(campaigns.dtypes).T"
   ]
  },
  {
   "cell_type": "markdown",
   "id": "9814968d",
   "metadata": {},
   "source": [
    "#### 2. customers"
   ]
  },
  {
   "cell_type": "code",
   "execution_count": 33,
   "id": "3f967778",
   "metadata": {},
   "outputs": [
    {
     "data": {
      "text/html": [
       "<div>\n",
       "<style scoped>\n",
       "    .dataframe tbody tr th:only-of-type {\n",
       "        vertical-align: middle;\n",
       "    }\n",
       "\n",
       "    .dataframe tbody tr th {\n",
       "        vertical-align: top;\n",
       "    }\n",
       "\n",
       "    .dataframe thead th {\n",
       "        text-align: right;\n",
       "    }\n",
       "</style>\n",
       "<table border=\"1\" class=\"dataframe\">\n",
       "  <thead>\n",
       "    <tr style=\"text-align: right;\">\n",
       "      <th></th>\n",
       "      <th>customer_id</th>\n",
       "      <th>full_name</th>\n",
       "      <th>age</th>\n",
       "      <th>gender</th>\n",
       "      <th>email</th>\n",
       "      <th>phone</th>\n",
       "      <th>street_address</th>\n",
       "      <th>city</th>\n",
       "      <th>state</th>\n",
       "      <th>zip_code</th>\n",
       "      <th>registration_date</th>\n",
       "      <th>preferred_channel</th>\n",
       "    </tr>\n",
       "  </thead>\n",
       "  <tbody>\n",
       "    <tr>\n",
       "      <th>0</th>\n",
       "      <td>4c30e132-0704-4459-a509-9eddde934977</td>\n",
       "      <td>Mark Johnson</td>\n",
       "      <td>40.0</td>\n",
       "      <td>Male</td>\n",
       "      <td>mark.johnson@yahoo.com</td>\n",
       "      <td>989.608.3863</td>\n",
       "      <td>819 Johnson Course</td>\n",
       "      <td>Houston</td>\n",
       "      <td>Texas</td>\n",
       "      <td>29158</td>\n",
       "      <td>2024-04-25</td>\n",
       "      <td>Other</td>\n",
       "    </tr>\n",
       "  </tbody>\n",
       "</table>\n",
       "</div>"
      ],
      "text/plain": [
       "                            customer_id     full_name   age gender  \\\n",
       "0  4c30e132-0704-4459-a509-9eddde934977  Mark Johnson  40.0   Male   \n",
       "\n",
       "                    email         phone      street_address     city  state  \\\n",
       "0  mark.johnson@yahoo.com  989.608.3863  819 Johnson Course  Houston  Texas   \n",
       "\n",
       "   zip_code registration_date preferred_channel  \n",
       "0     29158        2024-04-25             Other  "
      ]
     },
     "execution_count": 33,
     "metadata": {},
     "output_type": "execute_result"
    }
   ],
   "source": [
    "customers.head(1)"
   ]
  },
  {
   "cell_type": "code",
   "execution_count": 34,
   "id": "de3710d0",
   "metadata": {},
   "outputs": [
    {
     "data": {
      "text/html": [
       "<div>\n",
       "<style scoped>\n",
       "    .dataframe tbody tr th:only-of-type {\n",
       "        vertical-align: middle;\n",
       "    }\n",
       "\n",
       "    .dataframe tbody tr th {\n",
       "        vertical-align: top;\n",
       "    }\n",
       "\n",
       "    .dataframe thead th {\n",
       "        text-align: right;\n",
       "    }\n",
       "</style>\n",
       "<table border=\"1\" class=\"dataframe\">\n",
       "  <thead>\n",
       "    <tr style=\"text-align: right;\">\n",
       "      <th></th>\n",
       "      <th>customer_id</th>\n",
       "      <th>full_name</th>\n",
       "      <th>age</th>\n",
       "      <th>gender</th>\n",
       "      <th>email</th>\n",
       "      <th>phone</th>\n",
       "      <th>street_address</th>\n",
       "      <th>city</th>\n",
       "      <th>state</th>\n",
       "      <th>zip_code</th>\n",
       "      <th>registration_date</th>\n",
       "      <th>preferred_channel</th>\n",
       "    </tr>\n",
       "  </thead>\n",
       "  <tbody>\n",
       "    <tr>\n",
       "      <th>0</th>\n",
       "      <td>string[python]</td>\n",
       "      <td>string[python]</td>\n",
       "      <td>Float64</td>\n",
       "      <td>string[python]</td>\n",
       "      <td>string[python]</td>\n",
       "      <td>string[python]</td>\n",
       "      <td>string[python]</td>\n",
       "      <td>string[python]</td>\n",
       "      <td>string[python]</td>\n",
       "      <td>Int64</td>\n",
       "      <td>string[python]</td>\n",
       "      <td>string[python]</td>\n",
       "    </tr>\n",
       "  </tbody>\n",
       "</table>\n",
       "</div>"
      ],
      "text/plain": [
       "      customer_id       full_name      age          gender           email  \\\n",
       "0  string[python]  string[python]  Float64  string[python]  string[python]   \n",
       "\n",
       "            phone  street_address            city           state zip_code  \\\n",
       "0  string[python]  string[python]  string[python]  string[python]    Int64   \n",
       "\n",
       "  registration_date preferred_channel  \n",
       "0    string[python]    string[python]  "
      ]
     },
     "execution_count": 34,
     "metadata": {},
     "output_type": "execute_result"
    }
   ],
   "source": [
    "pd.DataFrame(customers.dtypes).T"
   ]
  },
  {
   "cell_type": "markdown",
   "id": "c812461a",
   "metadata": {},
   "source": [
    "#### 3. customer_reviews_complete"
   ]
  },
  {
   "cell_type": "code",
   "execution_count": 35,
   "id": "5ac91db4",
   "metadata": {},
   "outputs": [
    {
     "data": {
      "text/html": [
       "<div>\n",
       "<style scoped>\n",
       "    .dataframe tbody tr th:only-of-type {\n",
       "        vertical-align: middle;\n",
       "    }\n",
       "\n",
       "    .dataframe tbody tr th {\n",
       "        vertical-align: top;\n",
       "    }\n",
       "\n",
       "    .dataframe thead th {\n",
       "        text-align: right;\n",
       "    }\n",
       "</style>\n",
       "<table border=\"1\" class=\"dataframe\">\n",
       "  <thead>\n",
       "    <tr style=\"text-align: right;\">\n",
       "      <th></th>\n",
       "      <th>review_id</th>\n",
       "      <th>customer_id</th>\n",
       "      <th>product_name</th>\n",
       "      <th>product_category</th>\n",
       "      <th>full_name</th>\n",
       "      <th>transaction_date</th>\n",
       "      <th>review_date</th>\n",
       "      <th>rating</th>\n",
       "      <th>review_title</th>\n",
       "      <th>review_text</th>\n",
       "    </tr>\n",
       "  </thead>\n",
       "  <tbody>\n",
       "    <tr>\n",
       "      <th>0</th>\n",
       "      <td>rev_000001</td>\n",
       "      <td>e9848049-323f-4f95-a26e-3cffc219d591</td>\n",
       "      <td>Bookshelf</td>\n",
       "      <td>Furniture</td>\n",
       "      <td>Patrick Guerrero</td>\n",
       "      <td>2024-05-30</td>\n",
       "      <td>2024-06-12</td>\n",
       "      <td>5</td>\n",
       "      <td>Sturdy and Elegant Addition to My Study Room</td>\n",
       "      <td>Just received the bookshelf I've been eyeing f...</td>\n",
       "    </tr>\n",
       "  </tbody>\n",
       "</table>\n",
       "</div>"
      ],
      "text/plain": [
       "    review_id                           customer_id product_name  \\\n",
       "0  rev_000001  e9848049-323f-4f95-a26e-3cffc219d591    Bookshelf   \n",
       "\n",
       "  product_category         full_name transaction_date review_date  rating  \\\n",
       "0        Furniture  Patrick Guerrero       2024-05-30  2024-06-12       5   \n",
       "\n",
       "                                   review_title  \\\n",
       "0  Sturdy and Elegant Addition to My Study Room   \n",
       "\n",
       "                                         review_text  \n",
       "0  Just received the bookshelf I've been eyeing f...  "
      ]
     },
     "execution_count": 35,
     "metadata": {},
     "output_type": "execute_result"
    }
   ],
   "source": [
    "customer_reviews_complete.head(1)"
   ]
  },
  {
   "cell_type": "code",
   "execution_count": 36,
   "id": "28f507f2",
   "metadata": {},
   "outputs": [
    {
     "data": {
      "text/html": [
       "<div>\n",
       "<style scoped>\n",
       "    .dataframe tbody tr th:only-of-type {\n",
       "        vertical-align: middle;\n",
       "    }\n",
       "\n",
       "    .dataframe tbody tr th {\n",
       "        vertical-align: top;\n",
       "    }\n",
       "\n",
       "    .dataframe thead th {\n",
       "        text-align: right;\n",
       "    }\n",
       "</style>\n",
       "<table border=\"1\" class=\"dataframe\">\n",
       "  <thead>\n",
       "    <tr style=\"text-align: right;\">\n",
       "      <th></th>\n",
       "      <th>review_id</th>\n",
       "      <th>customer_id</th>\n",
       "      <th>product_name</th>\n",
       "      <th>product_category</th>\n",
       "      <th>full_name</th>\n",
       "      <th>transaction_date</th>\n",
       "      <th>review_date</th>\n",
       "      <th>rating</th>\n",
       "      <th>review_title</th>\n",
       "      <th>review_text</th>\n",
       "    </tr>\n",
       "  </thead>\n",
       "  <tbody>\n",
       "    <tr>\n",
       "      <th>0</th>\n",
       "      <td>string[python]</td>\n",
       "      <td>string[python]</td>\n",
       "      <td>string[python]</td>\n",
       "      <td>string[python]</td>\n",
       "      <td>object</td>\n",
       "      <td>string[python]</td>\n",
       "      <td>string[python]</td>\n",
       "      <td>Int64</td>\n",
       "      <td>string[python]</td>\n",
       "      <td>string[python]</td>\n",
       "    </tr>\n",
       "  </tbody>\n",
       "</table>\n",
       "</div>"
      ],
      "text/plain": [
       "        review_id     customer_id    product_name product_category full_name  \\\n",
       "0  string[python]  string[python]  string[python]   string[python]    object   \n",
       "\n",
       "  transaction_date     review_date rating    review_title     review_text  \n",
       "0   string[python]  string[python]  Int64  string[python]  string[python]  "
      ]
     },
     "execution_count": 36,
     "metadata": {},
     "output_type": "execute_result"
    }
   ],
   "source": [
    "pd.DataFrame(customer_reviews_complete.dtypes).T"
   ]
  },
  {
   "cell_type": "markdown",
   "id": "b101375f",
   "metadata": {},
   "source": [
    "#### 4. interactions"
   ]
  },
  {
   "cell_type": "code",
   "execution_count": 37,
   "id": "4e9ab63c",
   "metadata": {},
   "outputs": [
    {
     "data": {
      "text/html": [
       "<div>\n",
       "<style scoped>\n",
       "    .dataframe tbody tr th:only-of-type {\n",
       "        vertical-align: middle;\n",
       "    }\n",
       "\n",
       "    .dataframe tbody tr th {\n",
       "        vertical-align: top;\n",
       "    }\n",
       "\n",
       "    .dataframe thead th {\n",
       "        text-align: right;\n",
       "    }\n",
       "</style>\n",
       "<table border=\"1\" class=\"dataframe\">\n",
       "  <thead>\n",
       "    <tr style=\"text-align: right;\">\n",
       "      <th></th>\n",
       "      <th>interaction_id</th>\n",
       "      <th>customer_id</th>\n",
       "      <th>channel</th>\n",
       "      <th>interaction_type</th>\n",
       "      <th>interaction_date</th>\n",
       "      <th>duration</th>\n",
       "      <th>page_or_product</th>\n",
       "      <th>session_id</th>\n",
       "    </tr>\n",
       "  </thead>\n",
       "  <tbody>\n",
       "    <tr>\n",
       "      <th>0</th>\n",
       "      <td>423db3d3-659d-433f-859a-eea2ff1e2d2c</td>\n",
       "      <td>00012aa8-e99c-4e30-b3f6-1f7e36adc517</td>\n",
       "      <td>Other</td>\n",
       "      <td>review</td>\n",
       "      <td>2023-03-11 08:37:00</td>\n",
       "      <td>128.0</td>\n",
       "      <td>home</td>\n",
       "      <td>00012aa8-e99c-4e30-b3f6-1f7e36adc517_session_0</td>\n",
       "    </tr>\n",
       "  </tbody>\n",
       "</table>\n",
       "</div>"
      ],
      "text/plain": [
       "                         interaction_id                           customer_id  \\\n",
       "0  423db3d3-659d-433f-859a-eea2ff1e2d2c  00012aa8-e99c-4e30-b3f6-1f7e36adc517   \n",
       "\n",
       "  channel interaction_type     interaction_date  duration page_or_product  \\\n",
       "0   Other           review  2023-03-11 08:37:00     128.0            home   \n",
       "\n",
       "                                       session_id  \n",
       "0  00012aa8-e99c-4e30-b3f6-1f7e36adc517_session_0  "
      ]
     },
     "execution_count": 37,
     "metadata": {},
     "output_type": "execute_result"
    }
   ],
   "source": [
    "interactions.head(1)"
   ]
  },
  {
   "cell_type": "code",
   "execution_count": 38,
   "id": "0944606c",
   "metadata": {},
   "outputs": [
    {
     "data": {
      "text/html": [
       "<div>\n",
       "<style scoped>\n",
       "    .dataframe tbody tr th:only-of-type {\n",
       "        vertical-align: middle;\n",
       "    }\n",
       "\n",
       "    .dataframe tbody tr th {\n",
       "        vertical-align: top;\n",
       "    }\n",
       "\n",
       "    .dataframe thead th {\n",
       "        text-align: right;\n",
       "    }\n",
       "</style>\n",
       "<table border=\"1\" class=\"dataframe\">\n",
       "  <thead>\n",
       "    <tr style=\"text-align: right;\">\n",
       "      <th></th>\n",
       "      <th>interaction_id</th>\n",
       "      <th>customer_id</th>\n",
       "      <th>channel</th>\n",
       "      <th>interaction_type</th>\n",
       "      <th>interaction_date</th>\n",
       "      <th>duration</th>\n",
       "      <th>page_or_product</th>\n",
       "      <th>session_id</th>\n",
       "    </tr>\n",
       "  </thead>\n",
       "  <tbody>\n",
       "    <tr>\n",
       "      <th>0</th>\n",
       "      <td>string[python]</td>\n",
       "      <td>string[python]</td>\n",
       "      <td>string[python]</td>\n",
       "      <td>string[python]</td>\n",
       "      <td>string[python]</td>\n",
       "      <td>Float64</td>\n",
       "      <td>string[python]</td>\n",
       "      <td>string[python]</td>\n",
       "    </tr>\n",
       "  </tbody>\n",
       "</table>\n",
       "</div>"
      ],
      "text/plain": [
       "   interaction_id     customer_id         channel interaction_type  \\\n",
       "0  string[python]  string[python]  string[python]   string[python]   \n",
       "\n",
       "  interaction_date duration page_or_product      session_id  \n",
       "0   string[python]  Float64  string[python]  string[python]  "
      ]
     },
     "execution_count": 38,
     "metadata": {},
     "output_type": "execute_result"
    }
   ],
   "source": [
    "pd.DataFrame(interactions.dtypes).T"
   ]
  },
  {
   "cell_type": "markdown",
   "id": "a4539e48",
   "metadata": {},
   "source": [
    "#### 5. support_tickets"
   ]
  },
  {
   "cell_type": "code",
   "execution_count": 39,
   "id": "6ee28d76",
   "metadata": {},
   "outputs": [
    {
     "data": {
      "text/html": [
       "<div>\n",
       "<style scoped>\n",
       "    .dataframe tbody tr th:only-of-type {\n",
       "        vertical-align: middle;\n",
       "    }\n",
       "\n",
       "    .dataframe tbody tr th {\n",
       "        vertical-align: top;\n",
       "    }\n",
       "\n",
       "    .dataframe thead th {\n",
       "        text-align: right;\n",
       "    }\n",
       "</style>\n",
       "<table border=\"1\" class=\"dataframe\">\n",
       "  <thead>\n",
       "    <tr style=\"text-align: right;\">\n",
       "      <th></th>\n",
       "      <th>ticket_id</th>\n",
       "      <th>customer_id</th>\n",
       "      <th>issue_category</th>\n",
       "      <th>priority</th>\n",
       "      <th>submission_date</th>\n",
       "      <th>resolution_date</th>\n",
       "      <th>resolution_status</th>\n",
       "      <th>resolution_time_hours</th>\n",
       "      <th>customer_satisfaction_score</th>\n",
       "      <th>notes</th>\n",
       "    </tr>\n",
       "  </thead>\n",
       "  <tbody>\n",
       "    <tr>\n",
       "      <th>0</th>\n",
       "      <td>b38add31-c7bf-4dcd-ae90-6d7c3cca0728</td>\n",
       "      <td>20b8b390-06f6-4558-9641-9d87ca9de14c</td>\n",
       "      <td>Technical</td>\n",
       "      <td>Medium</td>\n",
       "      <td>2024-10-17</td>\n",
       "      <td>2024-10-18 11:00:00</td>\n",
       "      <td>Resolved</td>\n",
       "      <td>35</td>\n",
       "      <td>5</td>\n",
       "      <td>Customer experiencing software issues with Cof...</td>\n",
       "    </tr>\n",
       "  </tbody>\n",
       "</table>\n",
       "</div>"
      ],
      "text/plain": [
       "                              ticket_id                           customer_id  \\\n",
       "0  b38add31-c7bf-4dcd-ae90-6d7c3cca0728  20b8b390-06f6-4558-9641-9d87ca9de14c   \n",
       "\n",
       "  issue_category priority submission_date     resolution_date  \\\n",
       "0      Technical   Medium      2024-10-17 2024-10-18 11:00:00   \n",
       "\n",
       "  resolution_status  resolution_time_hours  customer_satisfaction_score  \\\n",
       "0          Resolved                     35                            5   \n",
       "\n",
       "                                               notes  \n",
       "0  Customer experiencing software issues with Cof...  "
      ]
     },
     "execution_count": 39,
     "metadata": {},
     "output_type": "execute_result"
    }
   ],
   "source": [
    "support_tickets.head(1)"
   ]
  },
  {
   "cell_type": "code",
   "execution_count": 40,
   "id": "e97186b8",
   "metadata": {},
   "outputs": [
    {
     "data": {
      "text/html": [
       "<div>\n",
       "<style scoped>\n",
       "    .dataframe tbody tr th:only-of-type {\n",
       "        vertical-align: middle;\n",
       "    }\n",
       "\n",
       "    .dataframe tbody tr th {\n",
       "        vertical-align: top;\n",
       "    }\n",
       "\n",
       "    .dataframe thead th {\n",
       "        text-align: right;\n",
       "    }\n",
       "</style>\n",
       "<table border=\"1\" class=\"dataframe\">\n",
       "  <thead>\n",
       "    <tr style=\"text-align: right;\">\n",
       "      <th></th>\n",
       "      <th>ticket_id</th>\n",
       "      <th>customer_id</th>\n",
       "      <th>issue_category</th>\n",
       "      <th>priority</th>\n",
       "      <th>submission_date</th>\n",
       "      <th>resolution_date</th>\n",
       "      <th>resolution_status</th>\n",
       "      <th>resolution_time_hours</th>\n",
       "      <th>customer_satisfaction_score</th>\n",
       "      <th>notes</th>\n",
       "    </tr>\n",
       "  </thead>\n",
       "  <tbody>\n",
       "    <tr>\n",
       "      <th>0</th>\n",
       "      <td>string[python]</td>\n",
       "      <td>string[python]</td>\n",
       "      <td>string[python]</td>\n",
       "      <td>string[python]</td>\n",
       "      <td>datetime64[ns]</td>\n",
       "      <td>datetime64[ns]</td>\n",
       "      <td>string[python]</td>\n",
       "      <td>Int64</td>\n",
       "      <td>Int64</td>\n",
       "      <td>string[python]</td>\n",
       "    </tr>\n",
       "  </tbody>\n",
       "</table>\n",
       "</div>"
      ],
      "text/plain": [
       "        ticket_id     customer_id  issue_category        priority  \\\n",
       "0  string[python]  string[python]  string[python]  string[python]   \n",
       "\n",
       "  submission_date resolution_date resolution_status resolution_time_hours  \\\n",
       "0  datetime64[ns]  datetime64[ns]    string[python]                 Int64   \n",
       "\n",
       "  customer_satisfaction_score           notes  \n",
       "0                       Int64  string[python]  "
      ]
     },
     "execution_count": 40,
     "metadata": {},
     "output_type": "execute_result"
    }
   ],
   "source": [
    "pd.DataFrame(support_tickets.dtypes).T"
   ]
  },
  {
   "cell_type": "markdown",
   "id": "34ed6fb4",
   "metadata": {},
   "source": [
    "#### 6. transactions"
   ]
  },
  {
   "cell_type": "code",
   "execution_count": 41,
   "id": "2a3656b0",
   "metadata": {},
   "outputs": [
    {
     "data": {
      "text/html": [
       "<div>\n",
       "<style scoped>\n",
       "    .dataframe tbody tr th:only-of-type {\n",
       "        vertical-align: middle;\n",
       "    }\n",
       "\n",
       "    .dataframe tbody tr th {\n",
       "        vertical-align: top;\n",
       "    }\n",
       "\n",
       "    .dataframe thead th {\n",
       "        text-align: right;\n",
       "    }\n",
       "</style>\n",
       "<table border=\"1\" class=\"dataframe\">\n",
       "  <thead>\n",
       "    <tr style=\"text-align: right;\">\n",
       "      <th></th>\n",
       "      <th>transaction_id</th>\n",
       "      <th>customer_id</th>\n",
       "      <th>product_name</th>\n",
       "      <th>product_category</th>\n",
       "      <th>quantity</th>\n",
       "      <th>price</th>\n",
       "      <th>transaction_date</th>\n",
       "      <th>store_location</th>\n",
       "      <th>payment_method</th>\n",
       "      <th>discount_applied</th>\n",
       "    </tr>\n",
       "  </thead>\n",
       "  <tbody>\n",
       "    <tr>\n",
       "      <th>0</th>\n",
       "      <td>53e3d9f5-6231-46de-aa39-e5f8eaae2eee</td>\n",
       "      <td>727839b2-f084-4e94-94d8-ae59cc8e4b84</td>\n",
       "      <td>Ring Doorbell</td>\n",
       "      <td>Smart Home Devices</td>\n",
       "      <td>1</td>\n",
       "      <td>140.07</td>\n",
       "      <td>2020-12-06</td>\n",
       "      <td>Houston, TX</td>\n",
       "      <td>Credit Card</td>\n",
       "      <td>20</td>\n",
       "    </tr>\n",
       "  </tbody>\n",
       "</table>\n",
       "</div>"
      ],
      "text/plain": [
       "                         transaction_id                           customer_id  \\\n",
       "0  53e3d9f5-6231-46de-aa39-e5f8eaae2eee  727839b2-f084-4e94-94d8-ae59cc8e4b84   \n",
       "\n",
       "    product_name    product_category  quantity   price transaction_date  \\\n",
       "0  Ring Doorbell  Smart Home Devices         1  140.07       2020-12-06   \n",
       "\n",
       "  store_location payment_method  discount_applied  \n",
       "0    Houston, TX    Credit Card                20  "
      ]
     },
     "execution_count": 41,
     "metadata": {},
     "output_type": "execute_result"
    }
   ],
   "source": [
    "transactions.head(1)"
   ]
  },
  {
   "cell_type": "code",
   "execution_count": 42,
   "id": "6f56c8f2",
   "metadata": {},
   "outputs": [
    {
     "data": {
      "text/html": [
       "<div>\n",
       "<style scoped>\n",
       "    .dataframe tbody tr th:only-of-type {\n",
       "        vertical-align: middle;\n",
       "    }\n",
       "\n",
       "    .dataframe tbody tr th {\n",
       "        vertical-align: top;\n",
       "    }\n",
       "\n",
       "    .dataframe thead th {\n",
       "        text-align: right;\n",
       "    }\n",
       "</style>\n",
       "<table border=\"1\" class=\"dataframe\">\n",
       "  <thead>\n",
       "    <tr style=\"text-align: right;\">\n",
       "      <th></th>\n",
       "      <th>transaction_id</th>\n",
       "      <th>customer_id</th>\n",
       "      <th>product_name</th>\n",
       "      <th>product_category</th>\n",
       "      <th>quantity</th>\n",
       "      <th>price</th>\n",
       "      <th>transaction_date</th>\n",
       "      <th>store_location</th>\n",
       "      <th>payment_method</th>\n",
       "      <th>discount_applied</th>\n",
       "    </tr>\n",
       "  </thead>\n",
       "  <tbody>\n",
       "    <tr>\n",
       "      <th>0</th>\n",
       "      <td>string[python]</td>\n",
       "      <td>string[python]</td>\n",
       "      <td>string[python]</td>\n",
       "      <td>string[python]</td>\n",
       "      <td>Int64</td>\n",
       "      <td>Float64</td>\n",
       "      <td>string[python]</td>\n",
       "      <td>string[python]</td>\n",
       "      <td>string[python]</td>\n",
       "      <td>Int64</td>\n",
       "    </tr>\n",
       "  </tbody>\n",
       "</table>\n",
       "</div>"
      ],
      "text/plain": [
       "   transaction_id     customer_id    product_name product_category quantity  \\\n",
       "0  string[python]  string[python]  string[python]   string[python]    Int64   \n",
       "\n",
       "     price transaction_date  store_location  payment_method discount_applied  \n",
       "0  Float64   string[python]  string[python]  string[python]            Int64  "
      ]
     },
     "execution_count": 42,
     "metadata": {},
     "output_type": "execute_result"
    }
   ],
   "source": [
    "pd.DataFrame(transactions.dtypes).T"
   ]
  },
  {
   "cell_type": "markdown",
   "id": "524f0401",
   "metadata": {},
   "source": [
    "### Rectify"
   ]
  },
  {
   "cell_type": "markdown",
   "id": "319ef569",
   "metadata": {},
   "source": [
    "#### 1. campaigns"
   ]
  },
  {
   "cell_type": "code",
   "execution_count": 43,
   "id": "96a2613c",
   "metadata": {},
   "outputs": [],
   "source": [
    "campaigns[\"start_date\"] = pd.to_datetime(campaigns[\"start_date\"])\n",
    "campaigns[\"end_date\"] = pd.to_datetime(campaigns[\"end_date\"])"
   ]
  },
  {
   "cell_type": "code",
   "execution_count": 44,
   "id": "024799a7",
   "metadata": {},
   "outputs": [
    {
     "data": {
      "text/html": [
       "<div>\n",
       "<style scoped>\n",
       "    .dataframe tbody tr th:only-of-type {\n",
       "        vertical-align: middle;\n",
       "    }\n",
       "\n",
       "    .dataframe tbody tr th {\n",
       "        vertical-align: top;\n",
       "    }\n",
       "\n",
       "    .dataframe thead th {\n",
       "        text-align: right;\n",
       "    }\n",
       "</style>\n",
       "<table border=\"1\" class=\"dataframe\">\n",
       "  <thead>\n",
       "    <tr style=\"text-align: right;\">\n",
       "      <th></th>\n",
       "      <th>campaign_id</th>\n",
       "      <th>campaign_name</th>\n",
       "      <th>campaign_type</th>\n",
       "      <th>start_date</th>\n",
       "      <th>end_date</th>\n",
       "      <th>target_segment</th>\n",
       "      <th>budget</th>\n",
       "      <th>impressions</th>\n",
       "      <th>clicks</th>\n",
       "      <th>conversions</th>\n",
       "      <th>conversion_rate</th>\n",
       "      <th>roi</th>\n",
       "    </tr>\n",
       "  </thead>\n",
       "  <tbody>\n",
       "    <tr>\n",
       "      <th>0</th>\n",
       "      <td>string[python]</td>\n",
       "      <td>string[python]</td>\n",
       "      <td>string[python]</td>\n",
       "      <td>datetime64[ns]</td>\n",
       "      <td>datetime64[ns]</td>\n",
       "      <td>string[python]</td>\n",
       "      <td>Float64</td>\n",
       "      <td>Float64</td>\n",
       "      <td>Float64</td>\n",
       "      <td>Float64</td>\n",
       "      <td>Float64</td>\n",
       "      <td>Float64</td>\n",
       "    </tr>\n",
       "  </tbody>\n",
       "</table>\n",
       "</div>"
      ],
      "text/plain": [
       "      campaign_id   campaign_name   campaign_type      start_date  \\\n",
       "0  string[python]  string[python]  string[python]  datetime64[ns]   \n",
       "\n",
       "         end_date  target_segment   budget impressions   clicks conversions  \\\n",
       "0  datetime64[ns]  string[python]  Float64     Float64  Float64     Float64   \n",
       "\n",
       "  conversion_rate      roi  \n",
       "0         Float64  Float64  "
      ]
     },
     "execution_count": 44,
     "metadata": {},
     "output_type": "execute_result"
    }
   ],
   "source": [
    "pd.DataFrame(campaigns.dtypes).T"
   ]
  },
  {
   "cell_type": "markdown",
   "id": "3190bd7b",
   "metadata": {},
   "source": [
    "#### 2. customers"
   ]
  },
  {
   "cell_type": "code",
   "execution_count": 45,
   "id": "e9aec097",
   "metadata": {},
   "outputs": [],
   "source": [
    "customers[\"registration_date\"] = pd.to_datetime(customers[\"registration_date\"])"
   ]
  },
  {
   "cell_type": "code",
   "execution_count": 46,
   "id": "c4a047d4",
   "metadata": {},
   "outputs": [
    {
     "data": {
      "text/html": [
       "<div>\n",
       "<style scoped>\n",
       "    .dataframe tbody tr th:only-of-type {\n",
       "        vertical-align: middle;\n",
       "    }\n",
       "\n",
       "    .dataframe tbody tr th {\n",
       "        vertical-align: top;\n",
       "    }\n",
       "\n",
       "    .dataframe thead th {\n",
       "        text-align: right;\n",
       "    }\n",
       "</style>\n",
       "<table border=\"1\" class=\"dataframe\">\n",
       "  <thead>\n",
       "    <tr style=\"text-align: right;\">\n",
       "      <th></th>\n",
       "      <th>customer_id</th>\n",
       "      <th>full_name</th>\n",
       "      <th>age</th>\n",
       "      <th>gender</th>\n",
       "      <th>email</th>\n",
       "      <th>phone</th>\n",
       "      <th>street_address</th>\n",
       "      <th>city</th>\n",
       "      <th>state</th>\n",
       "      <th>zip_code</th>\n",
       "      <th>registration_date</th>\n",
       "      <th>preferred_channel</th>\n",
       "    </tr>\n",
       "  </thead>\n",
       "  <tbody>\n",
       "    <tr>\n",
       "      <th>0</th>\n",
       "      <td>string[python]</td>\n",
       "      <td>string[python]</td>\n",
       "      <td>Float64</td>\n",
       "      <td>string[python]</td>\n",
       "      <td>string[python]</td>\n",
       "      <td>string[python]</td>\n",
       "      <td>string[python]</td>\n",
       "      <td>string[python]</td>\n",
       "      <td>string[python]</td>\n",
       "      <td>Int64</td>\n",
       "      <td>datetime64[ns]</td>\n",
       "      <td>string[python]</td>\n",
       "    </tr>\n",
       "  </tbody>\n",
       "</table>\n",
       "</div>"
      ],
      "text/plain": [
       "      customer_id       full_name      age          gender           email  \\\n",
       "0  string[python]  string[python]  Float64  string[python]  string[python]   \n",
       "\n",
       "            phone  street_address            city           state zip_code  \\\n",
       "0  string[python]  string[python]  string[python]  string[python]    Int64   \n",
       "\n",
       "  registration_date preferred_channel  \n",
       "0    datetime64[ns]    string[python]  "
      ]
     },
     "execution_count": 46,
     "metadata": {},
     "output_type": "execute_result"
    }
   ],
   "source": [
    "pd.DataFrame(customers.dtypes).T"
   ]
  },
  {
   "cell_type": "markdown",
   "id": "b1caba87",
   "metadata": {},
   "source": [
    "#### 3. customer_reviews_complete"
   ]
  },
  {
   "cell_type": "code",
   "execution_count": 47,
   "id": "222ff85a",
   "metadata": {},
   "outputs": [],
   "source": [
    "customer_reviews_complete[\"full_name\"] = customer_reviews_complete[\"full_name\"].astype(\"string\")\n",
    "customer_reviews_complete[\"transaction_date\"] = pd.to_datetime(customer_reviews_complete[\"transaction_date\"])\n",
    "customer_reviews_complete[\"review_date\"] = pd.to_datetime(customer_reviews_complete[\"review_date\"])"
   ]
  },
  {
   "cell_type": "code",
   "execution_count": 48,
   "id": "2b2eed01",
   "metadata": {},
   "outputs": [
    {
     "data": {
      "text/html": [
       "<div>\n",
       "<style scoped>\n",
       "    .dataframe tbody tr th:only-of-type {\n",
       "        vertical-align: middle;\n",
       "    }\n",
       "\n",
       "    .dataframe tbody tr th {\n",
       "        vertical-align: top;\n",
       "    }\n",
       "\n",
       "    .dataframe thead th {\n",
       "        text-align: right;\n",
       "    }\n",
       "</style>\n",
       "<table border=\"1\" class=\"dataframe\">\n",
       "  <thead>\n",
       "    <tr style=\"text-align: right;\">\n",
       "      <th></th>\n",
       "      <th>review_id</th>\n",
       "      <th>customer_id</th>\n",
       "      <th>product_name</th>\n",
       "      <th>product_category</th>\n",
       "      <th>full_name</th>\n",
       "      <th>transaction_date</th>\n",
       "      <th>review_date</th>\n",
       "      <th>rating</th>\n",
       "      <th>review_title</th>\n",
       "      <th>review_text</th>\n",
       "    </tr>\n",
       "  </thead>\n",
       "  <tbody>\n",
       "    <tr>\n",
       "      <th>0</th>\n",
       "      <td>string[python]</td>\n",
       "      <td>string[python]</td>\n",
       "      <td>string[python]</td>\n",
       "      <td>string[python]</td>\n",
       "      <td>string[python]</td>\n",
       "      <td>datetime64[ns]</td>\n",
       "      <td>datetime64[ns]</td>\n",
       "      <td>Int64</td>\n",
       "      <td>string[python]</td>\n",
       "      <td>string[python]</td>\n",
       "    </tr>\n",
       "  </tbody>\n",
       "</table>\n",
       "</div>"
      ],
      "text/plain": [
       "        review_id     customer_id    product_name product_category  \\\n",
       "0  string[python]  string[python]  string[python]   string[python]   \n",
       "\n",
       "        full_name transaction_date     review_date rating    review_title  \\\n",
       "0  string[python]   datetime64[ns]  datetime64[ns]  Int64  string[python]   \n",
       "\n",
       "      review_text  \n",
       "0  string[python]  "
      ]
     },
     "execution_count": 48,
     "metadata": {},
     "output_type": "execute_result"
    }
   ],
   "source": [
    "pd.DataFrame(customer_reviews_complete.dtypes).T"
   ]
  },
  {
   "cell_type": "markdown",
   "id": "7c7fe292",
   "metadata": {},
   "source": [
    "#### 4. interactions"
   ]
  },
  {
   "cell_type": "code",
   "execution_count": 49,
   "id": "8d931a69",
   "metadata": {},
   "outputs": [],
   "source": [
    "interactions[\"interaction_date\"] = pd.to_datetime(interactions[\"interaction_date\"])"
   ]
  },
  {
   "cell_type": "code",
   "execution_count": 50,
   "id": "acc7da6b",
   "metadata": {},
   "outputs": [
    {
     "data": {
      "text/html": [
       "<div>\n",
       "<style scoped>\n",
       "    .dataframe tbody tr th:only-of-type {\n",
       "        vertical-align: middle;\n",
       "    }\n",
       "\n",
       "    .dataframe tbody tr th {\n",
       "        vertical-align: top;\n",
       "    }\n",
       "\n",
       "    .dataframe thead th {\n",
       "        text-align: right;\n",
       "    }\n",
       "</style>\n",
       "<table border=\"1\" class=\"dataframe\">\n",
       "  <thead>\n",
       "    <tr style=\"text-align: right;\">\n",
       "      <th></th>\n",
       "      <th>interaction_id</th>\n",
       "      <th>customer_id</th>\n",
       "      <th>channel</th>\n",
       "      <th>interaction_type</th>\n",
       "      <th>interaction_date</th>\n",
       "      <th>duration</th>\n",
       "      <th>page_or_product</th>\n",
       "      <th>session_id</th>\n",
       "    </tr>\n",
       "  </thead>\n",
       "  <tbody>\n",
       "    <tr>\n",
       "      <th>0</th>\n",
       "      <td>string[python]</td>\n",
       "      <td>string[python]</td>\n",
       "      <td>string[python]</td>\n",
       "      <td>string[python]</td>\n",
       "      <td>datetime64[ns]</td>\n",
       "      <td>Float64</td>\n",
       "      <td>string[python]</td>\n",
       "      <td>string[python]</td>\n",
       "    </tr>\n",
       "  </tbody>\n",
       "</table>\n",
       "</div>"
      ],
      "text/plain": [
       "   interaction_id     customer_id         channel interaction_type  \\\n",
       "0  string[python]  string[python]  string[python]   string[python]   \n",
       "\n",
       "  interaction_date duration page_or_product      session_id  \n",
       "0   datetime64[ns]  Float64  string[python]  string[python]  "
      ]
     },
     "execution_count": 50,
     "metadata": {},
     "output_type": "execute_result"
    }
   ],
   "source": [
    "pd.DataFrame(interactions.dtypes).T"
   ]
  },
  {
   "cell_type": "markdown",
   "id": "04dfdb47",
   "metadata": {},
   "source": [
    "#### 5. support_tickets"
   ]
  },
  {
   "cell_type": "code",
   "execution_count": 51,
   "id": "888e348e",
   "metadata": {},
   "outputs": [],
   "source": [
    "support_tickets[\"submission_date\"] = pd.to_datetime(support_tickets[\"submission_date\"])\n",
    "support_tickets[\"resolution_date\"] = pd.to_datetime(support_tickets[\"resolution_date\"])"
   ]
  },
  {
   "cell_type": "code",
   "execution_count": 52,
   "id": "590529cd",
   "metadata": {},
   "outputs": [
    {
     "data": {
      "text/html": [
       "<div>\n",
       "<style scoped>\n",
       "    .dataframe tbody tr th:only-of-type {\n",
       "        vertical-align: middle;\n",
       "    }\n",
       "\n",
       "    .dataframe tbody tr th {\n",
       "        vertical-align: top;\n",
       "    }\n",
       "\n",
       "    .dataframe thead th {\n",
       "        text-align: right;\n",
       "    }\n",
       "</style>\n",
       "<table border=\"1\" class=\"dataframe\">\n",
       "  <thead>\n",
       "    <tr style=\"text-align: right;\">\n",
       "      <th></th>\n",
       "      <th>ticket_id</th>\n",
       "      <th>customer_id</th>\n",
       "      <th>issue_category</th>\n",
       "      <th>priority</th>\n",
       "      <th>submission_date</th>\n",
       "      <th>resolution_date</th>\n",
       "      <th>resolution_status</th>\n",
       "      <th>resolution_time_hours</th>\n",
       "      <th>customer_satisfaction_score</th>\n",
       "      <th>notes</th>\n",
       "    </tr>\n",
       "  </thead>\n",
       "  <tbody>\n",
       "    <tr>\n",
       "      <th>0</th>\n",
       "      <td>string[python]</td>\n",
       "      <td>string[python]</td>\n",
       "      <td>string[python]</td>\n",
       "      <td>string[python]</td>\n",
       "      <td>datetime64[ns]</td>\n",
       "      <td>datetime64[ns]</td>\n",
       "      <td>string[python]</td>\n",
       "      <td>Int64</td>\n",
       "      <td>Int64</td>\n",
       "      <td>string[python]</td>\n",
       "    </tr>\n",
       "  </tbody>\n",
       "</table>\n",
       "</div>"
      ],
      "text/plain": [
       "        ticket_id     customer_id  issue_category        priority  \\\n",
       "0  string[python]  string[python]  string[python]  string[python]   \n",
       "\n",
       "  submission_date resolution_date resolution_status resolution_time_hours  \\\n",
       "0  datetime64[ns]  datetime64[ns]    string[python]                 Int64   \n",
       "\n",
       "  customer_satisfaction_score           notes  \n",
       "0                       Int64  string[python]  "
      ]
     },
     "execution_count": 52,
     "metadata": {},
     "output_type": "execute_result"
    }
   ],
   "source": [
    "pd.DataFrame(support_tickets.dtypes).T"
   ]
  },
  {
   "cell_type": "markdown",
   "id": "8b3d5649",
   "metadata": {},
   "source": [
    "#### 6. transactions"
   ]
  },
  {
   "cell_type": "code",
   "execution_count": 53,
   "id": "e8c7f9e1",
   "metadata": {},
   "outputs": [],
   "source": [
    "transactions[\"transaction_date\"] = pd.to_datetime(transactions[\"transaction_date\"])"
   ]
  },
  {
   "cell_type": "code",
   "execution_count": 54,
   "id": "2fc25960",
   "metadata": {},
   "outputs": [
    {
     "data": {
      "text/html": [
       "<div>\n",
       "<style scoped>\n",
       "    .dataframe tbody tr th:only-of-type {\n",
       "        vertical-align: middle;\n",
       "    }\n",
       "\n",
       "    .dataframe tbody tr th {\n",
       "        vertical-align: top;\n",
       "    }\n",
       "\n",
       "    .dataframe thead th {\n",
       "        text-align: right;\n",
       "    }\n",
       "</style>\n",
       "<table border=\"1\" class=\"dataframe\">\n",
       "  <thead>\n",
       "    <tr style=\"text-align: right;\">\n",
       "      <th></th>\n",
       "      <th>transaction_id</th>\n",
       "      <th>customer_id</th>\n",
       "      <th>product_name</th>\n",
       "      <th>product_category</th>\n",
       "      <th>quantity</th>\n",
       "      <th>price</th>\n",
       "      <th>transaction_date</th>\n",
       "      <th>store_location</th>\n",
       "      <th>payment_method</th>\n",
       "      <th>discount_applied</th>\n",
       "    </tr>\n",
       "  </thead>\n",
       "  <tbody>\n",
       "    <tr>\n",
       "      <th>0</th>\n",
       "      <td>string[python]</td>\n",
       "      <td>string[python]</td>\n",
       "      <td>string[python]</td>\n",
       "      <td>string[python]</td>\n",
       "      <td>Int64</td>\n",
       "      <td>Float64</td>\n",
       "      <td>datetime64[ns]</td>\n",
       "      <td>string[python]</td>\n",
       "      <td>string[python]</td>\n",
       "      <td>Int64</td>\n",
       "    </tr>\n",
       "  </tbody>\n",
       "</table>\n",
       "</div>"
      ],
      "text/plain": [
       "   transaction_id     customer_id    product_name product_category quantity  \\\n",
       "0  string[python]  string[python]  string[python]   string[python]    Int64   \n",
       "\n",
       "     price transaction_date  store_location  payment_method discount_applied  \n",
       "0  Float64   datetime64[ns]  string[python]  string[python]            Int64  "
      ]
     },
     "execution_count": 54,
     "metadata": {},
     "output_type": "execute_result"
    }
   ],
   "source": [
    "pd.DataFrame(transactions.dtypes).T"
   ]
  },
  {
   "cell_type": "markdown",
   "id": "04035c18",
   "metadata": {},
   "source": [
    "## Faulty Values"
   ]
  },
  {
   "cell_type": "markdown",
   "id": "6bc7aa62",
   "metadata": {},
   "source": [
    "### Discover"
   ]
  },
  {
   "cell_type": "code",
   "execution_count": 55,
   "id": "3744a4c6",
   "metadata": {},
   "outputs": [],
   "source": [
    "def unique_perc (df):\n",
    "    uniques = {}\n",
    "    for column in df.columns:\n",
    "        uniques[column] = [df[column].unique().shape[0] / df[column].shape[0]]\n",
    "    return pd.DataFrame(uniques)\n",
    "\n",
    "def unique_vals (df, columns, filename=None):\n",
    "    path_log = \"../log/\"\n",
    "    uniques = {}\n",
    "    for column in columns:\n",
    "        uniques[column] = list(df[column].unique())\n",
    "    if filename:\n",
    "        with open(path_log+filename+\".json\", \"w\", encoding=\"utf-8\") as file:\n",
    "            json.dump(uniques, file, indent=4)\n",
    "    return"
   ]
  },
  {
   "cell_type": "markdown",
   "id": "5ef3fb78",
   "metadata": {},
   "source": [
    "#### 1. campaigns"
   ]
  },
  {
   "cell_type": "code",
   "execution_count": 56,
   "id": "4e66eb78",
   "metadata": {},
   "outputs": [
    {
     "data": {
      "text/html": [
       "<div>\n",
       "<style scoped>\n",
       "    .dataframe tbody tr th:only-of-type {\n",
       "        vertical-align: middle;\n",
       "    }\n",
       "\n",
       "    .dataframe tbody tr th {\n",
       "        vertical-align: top;\n",
       "    }\n",
       "\n",
       "    .dataframe thead th {\n",
       "        text-align: right;\n",
       "    }\n",
       "</style>\n",
       "<table border=\"1\" class=\"dataframe\">\n",
       "  <thead>\n",
       "    <tr style=\"text-align: right;\">\n",
       "      <th></th>\n",
       "      <th>campaign_id</th>\n",
       "      <th>campaign_name</th>\n",
       "      <th>campaign_type</th>\n",
       "      <th>start_date</th>\n",
       "      <th>end_date</th>\n",
       "      <th>target_segment</th>\n",
       "      <th>budget</th>\n",
       "      <th>impressions</th>\n",
       "      <th>clicks</th>\n",
       "      <th>conversions</th>\n",
       "      <th>conversion_rate</th>\n",
       "      <th>roi</th>\n",
       "    </tr>\n",
       "  </thead>\n",
       "  <tbody>\n",
       "    <tr>\n",
       "      <th>0</th>\n",
       "      <td>1.0</td>\n",
       "      <td>0.875</td>\n",
       "      <td>0.055</td>\n",
       "      <td>0.94</td>\n",
       "      <td>0.915</td>\n",
       "      <td>0.09</td>\n",
       "      <td>1.0</td>\n",
       "      <td>0.995</td>\n",
       "      <td>0.975</td>\n",
       "      <td>0.935</td>\n",
       "      <td>0.88</td>\n",
       "      <td>1.0</td>\n",
       "    </tr>\n",
       "  </tbody>\n",
       "</table>\n",
       "</div>"
      ],
      "text/plain": [
       "   campaign_id  campaign_name  campaign_type  start_date  end_date  \\\n",
       "0          1.0          0.875          0.055        0.94     0.915   \n",
       "\n",
       "   target_segment  budget  impressions  clicks  conversions  conversion_rate  \\\n",
       "0            0.09     1.0        0.995   0.975        0.935             0.88   \n",
       "\n",
       "   roi  \n",
       "0  1.0  "
      ]
     },
     "execution_count": 56,
     "metadata": {},
     "output_type": "execute_result"
    }
   ],
   "source": [
    "unique_perc(campaigns)"
   ]
  },
  {
   "cell_type": "code",
   "execution_count": 57,
   "id": "60933772",
   "metadata": {},
   "outputs": [],
   "source": [
    "unique_vals(campaigns, [\"campaign_type\", \"target_segment\"], \"campaigns\")"
   ]
  },
  {
   "cell_type": "markdown",
   "id": "1ee00b91",
   "metadata": {},
   "source": [
    "#### 2. customers"
   ]
  },
  {
   "cell_type": "code",
   "execution_count": 58,
   "id": "99ab64fc",
   "metadata": {},
   "outputs": [
    {
     "data": {
      "text/html": [
       "<div>\n",
       "<style scoped>\n",
       "    .dataframe tbody tr th:only-of-type {\n",
       "        vertical-align: middle;\n",
       "    }\n",
       "\n",
       "    .dataframe tbody tr th {\n",
       "        vertical-align: top;\n",
       "    }\n",
       "\n",
       "    .dataframe thead th {\n",
       "        text-align: right;\n",
       "    }\n",
       "</style>\n",
       "<table border=\"1\" class=\"dataframe\">\n",
       "  <thead>\n",
       "    <tr style=\"text-align: right;\">\n",
       "      <th></th>\n",
       "      <th>customer_id</th>\n",
       "      <th>full_name</th>\n",
       "      <th>age</th>\n",
       "      <th>gender</th>\n",
       "      <th>email</th>\n",
       "      <th>phone</th>\n",
       "      <th>street_address</th>\n",
       "      <th>city</th>\n",
       "      <th>state</th>\n",
       "      <th>zip_code</th>\n",
       "      <th>registration_date</th>\n",
       "      <th>preferred_channel</th>\n",
       "    </tr>\n",
       "  </thead>\n",
       "  <tbody>\n",
       "    <tr>\n",
       "      <th>0</th>\n",
       "      <td>1.0</td>\n",
       "      <td>0.9442</td>\n",
       "      <td>0.0116</td>\n",
       "      <td>0.0008</td>\n",
       "      <td>0.9554</td>\n",
       "      <td>0.963</td>\n",
       "      <td>0.9648</td>\n",
       "      <td>0.015</td>\n",
       "      <td>0.0032</td>\n",
       "      <td>0.958</td>\n",
       "      <td>0.3422</td>\n",
       "      <td>0.0008</td>\n",
       "    </tr>\n",
       "  </tbody>\n",
       "</table>\n",
       "</div>"
      ],
      "text/plain": [
       "   customer_id  full_name     age  gender   email  phone  street_address  \\\n",
       "0          1.0     0.9442  0.0116  0.0008  0.9554  0.963          0.9648   \n",
       "\n",
       "    city   state  zip_code  registration_date  preferred_channel  \n",
       "0  0.015  0.0032     0.958             0.3422             0.0008  "
      ]
     },
     "execution_count": 58,
     "metadata": {},
     "output_type": "execute_result"
    }
   ],
   "source": [
    "unique_perc(customers)"
   ]
  },
  {
   "cell_type": "code",
   "execution_count": 59,
   "id": "2ab75caa",
   "metadata": {},
   "outputs": [],
   "source": [
    "unique_vals(customers, [\"age\", \"gender\", \"city\", \"state\", \"preferred_channel\"], \"customers\")"
   ]
  },
  {
   "cell_type": "markdown",
   "id": "ddeaa629",
   "metadata": {},
   "source": [
    "#### 3. customer_reviews_complete"
   ]
  },
  {
   "cell_type": "code",
   "execution_count": 60,
   "id": "8c360a79",
   "metadata": {},
   "outputs": [
    {
     "data": {
      "text/html": [
       "<div>\n",
       "<style scoped>\n",
       "    .dataframe tbody tr th:only-of-type {\n",
       "        vertical-align: middle;\n",
       "    }\n",
       "\n",
       "    .dataframe tbody tr th {\n",
       "        vertical-align: top;\n",
       "    }\n",
       "\n",
       "    .dataframe thead th {\n",
       "        text-align: right;\n",
       "    }\n",
       "</style>\n",
       "<table border=\"1\" class=\"dataframe\">\n",
       "  <thead>\n",
       "    <tr style=\"text-align: right;\">\n",
       "      <th></th>\n",
       "      <th>review_id</th>\n",
       "      <th>customer_id</th>\n",
       "      <th>product_name</th>\n",
       "      <th>product_category</th>\n",
       "      <th>full_name</th>\n",
       "      <th>transaction_date</th>\n",
       "      <th>review_date</th>\n",
       "      <th>rating</th>\n",
       "      <th>review_title</th>\n",
       "      <th>review_text</th>\n",
       "    </tr>\n",
       "  </thead>\n",
       "  <tbody>\n",
       "    <tr>\n",
       "      <th>0</th>\n",
       "      <td>1.0</td>\n",
       "      <td>0.83</td>\n",
       "      <td>0.075</td>\n",
       "      <td>0.016</td>\n",
       "      <td>0.826</td>\n",
       "      <td>0.65</td>\n",
       "      <td>0.673</td>\n",
       "      <td>0.005</td>\n",
       "      <td>0.957</td>\n",
       "      <td>1.0</td>\n",
       "    </tr>\n",
       "  </tbody>\n",
       "</table>\n",
       "</div>"
      ],
      "text/plain": [
       "   review_id  customer_id  product_name  product_category  full_name  \\\n",
       "0        1.0         0.83         0.075             0.016      0.826   \n",
       "\n",
       "   transaction_date  review_date  rating  review_title  review_text  \n",
       "0              0.65        0.673   0.005         0.957          1.0  "
      ]
     },
     "execution_count": 60,
     "metadata": {},
     "output_type": "execute_result"
    }
   ],
   "source": [
    "unique_perc(customer_reviews_complete)"
   ]
  },
  {
   "cell_type": "code",
   "execution_count": 61,
   "id": "0ec75994",
   "metadata": {},
   "outputs": [],
   "source": [
    "unique_vals(customer_reviews_complete, [\"product_name\", \"product_category\"], \"customer_reviews_complete\")"
   ]
  },
  {
   "cell_type": "markdown",
   "id": "0af94f63",
   "metadata": {},
   "source": [
    "#### 4. interactions"
   ]
  },
  {
   "cell_type": "code",
   "execution_count": 62,
   "id": "bf8f5b53",
   "metadata": {},
   "outputs": [
    {
     "data": {
      "text/html": [
       "<div>\n",
       "<style scoped>\n",
       "    .dataframe tbody tr th:only-of-type {\n",
       "        vertical-align: middle;\n",
       "    }\n",
       "\n",
       "    .dataframe tbody tr th {\n",
       "        vertical-align: top;\n",
       "    }\n",
       "\n",
       "    .dataframe thead th {\n",
       "        text-align: right;\n",
       "    }\n",
       "</style>\n",
       "<table border=\"1\" class=\"dataframe\">\n",
       "  <thead>\n",
       "    <tr style=\"text-align: right;\">\n",
       "      <th></th>\n",
       "      <th>interaction_id</th>\n",
       "      <th>customer_id</th>\n",
       "      <th>channel</th>\n",
       "      <th>interaction_type</th>\n",
       "      <th>interaction_date</th>\n",
       "      <th>duration</th>\n",
       "      <th>page_or_product</th>\n",
       "      <th>session_id</th>\n",
       "    </tr>\n",
       "  </thead>\n",
       "  <tbody>\n",
       "    <tr>\n",
       "      <th>0</th>\n",
       "      <td>1.0</td>\n",
       "      <td>0.04994</td>\n",
       "      <td>0.00004</td>\n",
       "      <td>0.00015</td>\n",
       "      <td>0.92371</td>\n",
       "      <td>0.00301</td>\n",
       "      <td>0.00035</td>\n",
       "      <td>0.99276</td>\n",
       "    </tr>\n",
       "  </tbody>\n",
       "</table>\n",
       "</div>"
      ],
      "text/plain": [
       "   interaction_id  customer_id  channel  interaction_type  interaction_date  \\\n",
       "0             1.0      0.04994  0.00004           0.00015           0.92371   \n",
       "\n",
       "   duration  page_or_product  session_id  \n",
       "0   0.00301          0.00035     0.99276  "
      ]
     },
     "execution_count": 62,
     "metadata": {},
     "output_type": "execute_result"
    }
   ],
   "source": [
    "unique_perc(interactions)"
   ]
  },
  {
   "cell_type": "code",
   "execution_count": 63,
   "id": "b0af5503",
   "metadata": {},
   "outputs": [],
   "source": [
    "unique_vals(interactions, [\"channel\", \"interaction_type\", \"page_or_product\"], \"interactions\")"
   ]
  },
  {
   "cell_type": "markdown",
   "id": "d7a70807",
   "metadata": {},
   "source": [
    "#### 5. support_tickets"
   ]
  },
  {
   "cell_type": "code",
   "execution_count": 64,
   "id": "2ca30a85",
   "metadata": {},
   "outputs": [
    {
     "data": {
      "text/html": [
       "<div>\n",
       "<style scoped>\n",
       "    .dataframe tbody tr th:only-of-type {\n",
       "        vertical-align: middle;\n",
       "    }\n",
       "\n",
       "    .dataframe tbody tr th {\n",
       "        vertical-align: top;\n",
       "    }\n",
       "\n",
       "    .dataframe thead th {\n",
       "        text-align: right;\n",
       "    }\n",
       "</style>\n",
       "<table border=\"1\" class=\"dataframe\">\n",
       "  <thead>\n",
       "    <tr style=\"text-align: right;\">\n",
       "      <th></th>\n",
       "      <th>ticket_id</th>\n",
       "      <th>customer_id</th>\n",
       "      <th>issue_category</th>\n",
       "      <th>priority</th>\n",
       "      <th>submission_date</th>\n",
       "      <th>resolution_date</th>\n",
       "      <th>resolution_status</th>\n",
       "      <th>resolution_time_hours</th>\n",
       "      <th>customer_satisfaction_score</th>\n",
       "      <th>notes</th>\n",
       "    </tr>\n",
       "  </thead>\n",
       "  <tbody>\n",
       "    <tr>\n",
       "      <th>0</th>\n",
       "      <td>1.0</td>\n",
       "      <td>0.732</td>\n",
       "      <td>0.002667</td>\n",
       "      <td>0.001</td>\n",
       "      <td>0.382667</td>\n",
       "      <td>0.857333</td>\n",
       "      <td>0.001333</td>\n",
       "      <td>0.042</td>\n",
       "      <td>0.001667</td>\n",
       "      <td>0.124667</td>\n",
       "    </tr>\n",
       "  </tbody>\n",
       "</table>\n",
       "</div>"
      ],
      "text/plain": [
       "   ticket_id  customer_id  issue_category  priority  submission_date  \\\n",
       "0        1.0        0.732        0.002667     0.001         0.382667   \n",
       "\n",
       "   resolution_date  resolution_status  resolution_time_hours  \\\n",
       "0         0.857333           0.001333                  0.042   \n",
       "\n",
       "   customer_satisfaction_score     notes  \n",
       "0                     0.001667  0.124667  "
      ]
     },
     "execution_count": 64,
     "metadata": {},
     "output_type": "execute_result"
    }
   ],
   "source": [
    "unique_perc(support_tickets)"
   ]
  },
  {
   "cell_type": "code",
   "execution_count": 65,
   "id": "7418ece4",
   "metadata": {},
   "outputs": [],
   "source": [
    "unique_vals(support_tickets, [\"issue_category\", \"priority\", \"resolution_status\"], \"support_tickets\")"
   ]
  },
  {
   "cell_type": "markdown",
   "id": "0b7cf011",
   "metadata": {},
   "source": [
    "#### 6. transactions"
   ]
  },
  {
   "cell_type": "code",
   "execution_count": 66,
   "id": "fae8bba1",
   "metadata": {},
   "outputs": [
    {
     "data": {
      "text/html": [
       "<div>\n",
       "<style scoped>\n",
       "    .dataframe tbody tr th:only-of-type {\n",
       "        vertical-align: middle;\n",
       "    }\n",
       "\n",
       "    .dataframe tbody tr th {\n",
       "        vertical-align: top;\n",
       "    }\n",
       "\n",
       "    .dataframe thead th {\n",
       "        text-align: right;\n",
       "    }\n",
       "</style>\n",
       "<table border=\"1\" class=\"dataframe\">\n",
       "  <thead>\n",
       "    <tr style=\"text-align: right;\">\n",
       "      <th></th>\n",
       "      <th>transaction_id</th>\n",
       "      <th>customer_id</th>\n",
       "      <th>product_name</th>\n",
       "      <th>product_category</th>\n",
       "      <th>quantity</th>\n",
       "      <th>price</th>\n",
       "      <th>transaction_date</th>\n",
       "      <th>store_location</th>\n",
       "      <th>payment_method</th>\n",
       "      <th>discount_applied</th>\n",
       "    </tr>\n",
       "  </thead>\n",
       "  <tbody>\n",
       "    <tr>\n",
       "      <th>0</th>\n",
       "      <td>1.0</td>\n",
       "      <td>0.142994</td>\n",
       "      <td>0.002353</td>\n",
       "      <td>0.000495</td>\n",
       "      <td>0.001393</td>\n",
       "      <td>0.857037</td>\n",
       "      <td>0.054529</td>\n",
       "      <td>0.000341</td>\n",
       "      <td>0.000217</td>\n",
       "      <td>0.000217</td>\n",
       "    </tr>\n",
       "  </tbody>\n",
       "</table>\n",
       "</div>"
      ],
      "text/plain": [
       "   transaction_id  customer_id  product_name  product_category  quantity  \\\n",
       "0             1.0     0.142994      0.002353          0.000495  0.001393   \n",
       "\n",
       "      price  transaction_date  store_location  payment_method  \\\n",
       "0  0.857037          0.054529        0.000341        0.000217   \n",
       "\n",
       "   discount_applied  \n",
       "0          0.000217  "
      ]
     },
     "execution_count": 66,
     "metadata": {},
     "output_type": "execute_result"
    }
   ],
   "source": [
    "unique_perc(transactions)"
   ]
  },
  {
   "cell_type": "code",
   "execution_count": 67,
   "id": "4deb8636",
   "metadata": {},
   "outputs": [],
   "source": [
    "unique_vals(transactions, [\"product_name\", \"product_category\", \"store_location\", \"payment_method\"], \"transactions\")"
   ]
  },
  {
   "cell_type": "markdown",
   "id": "363b7a10",
   "metadata": {},
   "source": [
    "### Rectify"
   ]
  },
  {
   "cell_type": "code",
   "execution_count": 68,
   "id": "0df3abd1",
   "metadata": {},
   "outputs": [],
   "source": [
    "def title_conv (df):\n",
    "    for column in df.columns:\n",
    "        if pd.api.types.is_string_dtype(df[column].dtype):\n",
    "            df[column] = df[column].str.title()"
   ]
  },
  {
   "cell_type": "code",
   "execution_count": 69,
   "id": "81856b1e",
   "metadata": {},
   "outputs": [],
   "source": [
    "title_conv(campaigns)\n",
    "title_conv(customers)\n",
    "title_conv(customer_reviews_complete)\n",
    "title_conv(interactions)\n",
    "title_conv(support_tickets)\n",
    "title_conv(transactions)"
   ]
  },
  {
   "cell_type": "markdown",
   "id": "b359dbe8",
   "metadata": {},
   "source": [
    "## Duplication"
   ]
  },
  {
   "cell_type": "markdown",
   "id": "e886bec1",
   "metadata": {},
   "source": [
    "### Discover"
   ]
  },
  {
   "cell_type": "code",
   "execution_count": 70,
   "id": "757762a6",
   "metadata": {},
   "outputs": [
    {
     "name": "stdout",
     "output_type": "stream",
     "text": [
      "0\n",
      "0\n",
      "0\n",
      "0\n",
      "0\n",
      "0\n"
     ]
    }
   ],
   "source": [
    "print(campaigns.duplicated().sum())\n",
    "print(customers.duplicated().sum())\n",
    "print(customer_reviews_complete.duplicated().sum())\n",
    "print(interactions.duplicated().sum())\n",
    "print(support_tickets.duplicated().sum())\n",
    "print(transactions.duplicated().sum())"
   ]
  },
  {
   "cell_type": "markdown",
   "id": "98cf07f2",
   "metadata": {},
   "source": [
    "### Rectify"
   ]
  },
  {
   "cell_type": "markdown",
   "id": "4ce902f9",
   "metadata": {},
   "source": [
    "# Export"
   ]
  },
  {
   "cell_type": "code",
   "execution_count": 71,
   "id": "03a3b771",
   "metadata": {},
   "outputs": [],
   "source": [
    "path_out = \"../data/processed/\"\n",
    "\n",
    "campaigns.to_csv(path_out+\"campaigns.csv\")\n",
    "customers.to_csv(path_out+\"customers.csv\")\n",
    "customer_reviews_complete.to_csv(path_out+\"customer_reviews_complete.csv\")\n",
    "interactions.to_csv(path_out+\"interactions.csv\")\n",
    "support_tickets.to_csv(path_out+\"support_tickets.csv\")\n",
    "transactions.to_csv(path_out+\"transactions.csv\")"
   ]
  }
 ],
 "metadata": {
  "kernelspec": {
   "display_name": ".localenv",
   "language": "python",
   "name": "python3"
  },
  "language_info": {
   "codemirror_mode": {
    "name": "ipython",
    "version": 3
   },
   "file_extension": ".py",
   "mimetype": "text/x-python",
   "name": "python",
   "nbconvert_exporter": "python",
   "pygments_lexer": "ipython3",
   "version": "3.10.0"
  }
 },
 "nbformat": 4,
 "nbformat_minor": 5
}
